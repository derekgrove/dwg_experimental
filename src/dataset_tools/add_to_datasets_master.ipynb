{
 "cells": [
  {
   "cell_type": "code",
   "execution_count": 1,
   "id": "d7aa1066-473a-4657-a021-36ecfb35604b",
   "metadata": {},
   "outputs": [],
   "source": [
    "from dataset_builder import basic_dataset_entry"
   ]
  },
  {
   "cell_type": "code",
   "execution_count": 2,
   "id": "65ac968c-7170-4a7b-b82b-cf1f32d8eda0",
   "metadata": {},
   "outputs": [],
   "source": [
    "master_json_path = \"datasets_master.json\""
   ]
  },
  {
   "cell_type": "code",
   "execution_count": 3,
   "id": "b81646e0-a644-4d0a-b1b4-248cbe60a6b3",
   "metadata": {},
   "outputs": [],
   "source": [
    "new_entry = basic_dataset_entry(\n",
    "    AOD_type = \"NANO\",\n",
    "    AOD_version = 12,\n",
    "    year = \"2023\",\n",
    "    nickname = \"Prompt_JPsi_toEE_pth10toInf\",\n",
    "    notes = \"Produced by egamma group, some electrons may not fire electron trigger\",\n",
    "    branch=\"Events\", #If NanoAOD Events should be used as default, if custom ntuple... gl\n",
    "    MC = False,\n",
    "    postBPix = False,\n",
    "    custom_tag=\"BG\", #will later be parsed to a list of strings split by \",\"\n",
    "    REMOTE_DIRECTORY = \"dataset=/EGamma1/Run2023C-24Jan2024_v1-v1/NANOAOD\",\n",
    "    )"
   ]
  },
  {
   "cell_type": "code",
   "execution_count": 4,
   "id": "a148bb5d-be3d-42d1-b457-78f287661280",
   "metadata": {},
   "outputs": [
    {
     "data": {
      "text/plain": [
       "{'NANO': {'2023': {'Prompt_JPsi_toEE_pth10toInf': {'notes': 'Produced by egamma group, some electrons may not fire electron trigger',\n",
       "    'isMC': True,\n",
       "    'postBPix': True,\n",
       "    'custom_tag': 'BG',\n",
       "    'AOD_version': '12',\n",
       "    'branch': 'Events',\n",
       "    'REMOTE_DIRECTORY': 'dataset=/JPsiToEE_pth10toInf_TuneCP5_13p6TeV_pythia8/Run3Summer23BPixNanoAODv12-130X_mcRun3_2023_realistic_postBPix_v6-v3/NANOAODSIM',\n",
       "    'REDIRECTOR': 'root://cms-xrd-global.cern.ch/',\n",
       "    'numEvents': {},\n",
       "    'preprocessed_file': {}}}}}"
      ]
     },
     "execution_count": 4,
     "metadata": {},
     "output_type": "execute_result"
    }
   ],
   "source": [
    "check_format = new_entry.make_dict()\n",
    "check_format"
   ]
  },
  {
   "cell_type": "code",
   "execution_count": 5,
   "id": "7eef207f-8a61-4ecd-b621-78b8b0967d1e",
   "metadata": {},
   "outputs": [
    {
     "name": "stdin",
     "output_type": "stream",
     "text": [
      "Looks good? If so, press enter \n"
     ]
    },
    {
     "data": {
      "text/plain": [
       "''"
      ]
     },
     "execution_count": 5,
     "metadata": {},
     "output_type": "execute_result"
    }
   ],
   "source": [
    "input(\"Looks good? If so, press enter\")"
   ]
  },
  {
   "cell_type": "code",
   "execution_count": 6,
   "id": "8734123a-8b6a-4e99-80ff-a24cf126b7ab",
   "metadata": {},
   "outputs": [
    {
     "name": "stdout",
     "output_type": "stream",
     "text": [
      "Successfully added Prompt_JPsi_toEE_pth10toInf to the master JSON file.\n"
     ]
    }
   ],
   "source": [
    "new_entry.append_to_master(master_json_path)"
   ]
  },
  {
   "cell_type": "code",
   "execution_count": null,
   "id": "d65bd24c-ba4c-4a83-851a-7a384c86987e",
   "metadata": {},
   "outputs": [],
   "source": []
  }
 ],
 "metadata": {
  "kernelspec": {
   "display_name": "Python 3 (ipykernel)",
   "language": "python",
   "name": "python3"
  },
  "language_info": {
   "codemirror_mode": {
    "name": "ipython",
    "version": 3
   },
   "file_extension": ".py",
   "mimetype": "text/x-python",
   "name": "python",
   "nbconvert_exporter": "python",
   "pygments_lexer": "ipython3",
   "version": "3.12.5"
  }
 },
 "nbformat": 4,
 "nbformat_minor": 5
}
