{
 "cells": [
  {
   "cell_type": "code",
   "execution_count": 1,
   "id": "1f272b23-433e-4dc6-99ca-6c1748a7bff6",
   "metadata": {},
   "outputs": [
    {
     "name": "stderr",
     "output_type": "stream",
     "text": [
      "/usr/local/lib/python3.12/site-packages/coffea/nanoevents/schemas/fcc.py:5: FutureWarning: In version 2025.1.0 (target date: 2024-12-31 11:59:59-06:00), this will be an error.\n",
      "To raise these warnings as errors (and get stack traces to find out where they're called), run\n",
      "    import warnings\n",
      "    warnings.filterwarnings(\"error\", module=\"coffea.*\")\n",
      "after the first `import coffea` or use `@pytest.mark.filterwarnings(\"error:::coffea.*\")` in pytest.\n",
      "Issue: coffea.nanoevents.methods.vector will be removed and replaced with scikit-hep vector. Nanoevents schemas internal to coffea will be migrated. Otherwise please consider using that package!.\n",
      "  from coffea.nanoevents.methods import vector\n"
     ]
    }
   ],
   "source": [
    "# ========================\n",
    "# Step 1: Imports\n",
    "# ========================\n",
    "\n",
    "import os\n",
    "import gzip\n",
    "import json\n",
    "import dask\n",
    "import awkward as ak\n",
    "import numpy as np\n",
    "import sys\n",
    "import importlib\n",
    "\n",
    "from coffea.nanoevents import NanoAODSchema\n",
    "from coffea.dataset_tools import apply_to_fileset, max_chunks, max_files\n",
    "from dask.distributed import Client\n",
    "from pathlib import Path\n",
    "\n",
    "current_dir = Path.cwd()\n",
    "#print(current_dir)\n",
    "#processors_dir = current_dir.parent / \"processors\"\n",
    "processors_dir = current_dir # used to keep processors separate but that was bad\n",
    "path_to_run_on = current_dir.parent\n",
    "path_to_master_json = current_dir.parent.parent / \"src\" / \"dataset_tools\"\n",
    "\n",
    "sys.path.append(str(processors_dir))\n",
    "\n",
    "processor_name = \"AN_plot_processor_UL\" # without .py\n",
    "run_on_name = \"run_on_UL.json\"\n",
    "\n",
    "processor_module = importlib.import_module(processor_name)\n",
    "Processor = processor_module.Processor"
   ]
  },
  {
   "cell_type": "code",
   "execution_count": 2,
   "id": "ef528e6e-0764-463f-92b6-5c5f041bb838",
   "metadata": {},
   "outputs": [],
   "source": [
    "import json\n",
    "\n",
    "with open(path_to_master_json / \"datasets_master.json\") as file:\n",
    "    datasets = json.load(file)\n",
    "\n",
    "with open(path_to_run_on / run_on_name) as file:\n",
    "    run_on = json.load(file)\n",
    "#print(run_on)"
   ]
  },
  {
   "cell_type": "code",
   "execution_count": 3,
   "id": "442f0622-21db-4b95-b737-8f241d2f1948",
   "metadata": {},
   "outputs": [
    {
     "name": "stdout",
     "output_type": "stream",
     "text": [
      "sample in json: TChiWZ_UL\n"
     ]
    },
    {
     "name": "stderr",
     "output_type": "stream",
     "text": [
      "/usr/local/lib/python3.12/site-packages/coffea/nanoevents/schemas/nanoaod.py:264: RuntimeWarning: Missing cross-reference index for LowPtElectron_electronIdx => Electron\n",
      "  warnings.warn(\n",
      "/usr/local/lib/python3.12/site-packages/coffea/nanoevents/schemas/nanoaod.py:264: RuntimeWarning: Missing cross-reference index for LowPtElectron_photonIdx => Photon\n",
      "  warnings.warn(\n"
     ]
    },
    {
     "ename": "AttributeError",
     "evalue": "mvaIso_WP90 not in fields.",
     "output_type": "error",
     "traceback": [
      "\u001b[0;31m---------------------------------------------------------------------------\u001b[0m",
      "\u001b[0;31mAttributeError\u001b[0m                            Traceback (most recent call last)",
      "File \u001b[0;32m/usr/local/lib/python3.12/site-packages/dask_awkward/lib/core.py:1603\u001b[0m, in \u001b[0;36mArray.__getattr__\u001b[0;34m(self, attr)\u001b[0m\n\u001b[1;32m   1602\u001b[0m \u001b[38;5;28;01mtry\u001b[39;00m:\n\u001b[0;32m-> 1603\u001b[0m     cls_method \u001b[38;5;241m=\u001b[39m \u001b[43mgetattr_static\u001b[49m\u001b[43m(\u001b[49m\u001b[38;5;28;43mself\u001b[39;49m\u001b[38;5;241;43m.\u001b[39;49m\u001b[43m_meta\u001b[49m\u001b[43m,\u001b[49m\u001b[43m \u001b[49m\u001b[43mattr\u001b[49m\u001b[43m)\u001b[49m\n\u001b[1;32m   1604\u001b[0m \u001b[38;5;28;01mexcept\u001b[39;00m \u001b[38;5;167;01mAttributeError\u001b[39;00m:\n",
      "File \u001b[0;32m/usr/local/lib/python3.12/inspect.py:1888\u001b[0m, in \u001b[0;36mgetattr_static\u001b[0;34m(obj, attr, default)\u001b[0m\n\u001b[1;32m   1887\u001b[0m     \u001b[38;5;28;01mreturn\u001b[39;00m default\n\u001b[0;32m-> 1888\u001b[0m \u001b[38;5;28;01mraise\u001b[39;00m \u001b[38;5;167;01mAttributeError\u001b[39;00m(attr)\n",
      "\u001b[0;31mAttributeError\u001b[0m: mvaIso_WP90",
      "\nDuring handling of the above exception, another exception occurred:\n",
      "\u001b[0;31mAttributeError\u001b[0m                            Traceback (most recent call last)",
      "Cell \u001b[0;32mIn[3], line 45\u001b[0m\n\u001b[1;32m     38\u001b[0m     tg, rep \u001b[38;5;241m=\u001b[39m apply_to_fileset(\n\u001b[1;32m     39\u001b[0m         data_manipulation\u001b[38;5;241m=\u001b[39mProcessor(),\n\u001b[1;32m     40\u001b[0m         fileset\u001b[38;5;241m=\u001b[39mtest_chunks,\n\u001b[1;32m     41\u001b[0m         schemaclass\u001b[38;5;241m=\u001b[39mNanoAODSchema,\n\u001b[1;32m     42\u001b[0m         uproot_options\u001b[38;5;241m=\u001b[39m{\u001b[38;5;124m\"\u001b[39m\u001b[38;5;124mallow_read_errors_with_report\u001b[39m\u001b[38;5;124m\"\u001b[39m: (\u001b[38;5;167;01mOSError\u001b[39;00m, \u001b[38;5;167;01mKeyError\u001b[39;00m)},\n\u001b[1;32m     43\u001b[0m     )\n\u001b[1;32m     44\u001b[0m \u001b[38;5;28;01melse\u001b[39;00m:\n\u001b[0;32m---> 45\u001b[0m     tg, rep \u001b[38;5;241m=\u001b[39m \u001b[43mapply_to_fileset\u001b[49m\u001b[43m(\u001b[49m\n\u001b[1;32m     46\u001b[0m \u001b[43m        \u001b[49m\u001b[43mdata_manipulation\u001b[49m\u001b[38;5;241;43m=\u001b[39;49m\u001b[43mProcessor\u001b[49m\u001b[43m(\u001b[49m\u001b[43m)\u001b[49m\u001b[43m,\u001b[49m\n\u001b[1;32m     47\u001b[0m \u001b[43m        \u001b[49m\u001b[43mfileset\u001b[49m\u001b[38;5;241;43m=\u001b[39;49m\u001b[43mpreprocessed_file\u001b[49m\u001b[43m,\u001b[49m\n\u001b[1;32m     48\u001b[0m \u001b[43m        \u001b[49m\u001b[43mschemaclass\u001b[49m\u001b[38;5;241;43m=\u001b[39;49m\u001b[43mNanoAODSchema\u001b[49m\u001b[43m,\u001b[49m\n\u001b[1;32m     49\u001b[0m \u001b[43m        \u001b[49m\u001b[43muproot_options\u001b[49m\u001b[38;5;241;43m=\u001b[39;49m\u001b[43m{\u001b[49m\u001b[38;5;124;43m\"\u001b[39;49m\u001b[38;5;124;43mallow_read_errors_with_report\u001b[39;49m\u001b[38;5;124;43m\"\u001b[39;49m\u001b[43m:\u001b[49m\u001b[43m \u001b[49m\u001b[43m(\u001b[49m\u001b[38;5;167;43;01mOSError\u001b[39;49;00m\u001b[43m,\u001b[49m\u001b[43m \u001b[49m\u001b[38;5;167;43;01mKeyError\u001b[39;49;00m\u001b[43m)\u001b[49m\u001b[43m}\u001b[49m\u001b[43m,\u001b[49m\n\u001b[1;32m     50\u001b[0m \u001b[43m    \u001b[49m\u001b[43m)\u001b[49m\n\u001b[1;32m     52\u001b[0m \u001b[38;5;66;03m#client.scheduler_info()\u001b[39;00m\n\u001b[1;32m     53\u001b[0m \u001b[38;5;28mprint\u001b[39m(\u001b[38;5;124m\"\u001b[39m\u001b[38;5;124msample loaded, running, hold please.........\u001b[39m\u001b[38;5;124m\"\u001b[39m)\n",
      "File \u001b[0;32m/usr/local/lib/python3.12/site-packages/coffea/dataset_tools/apply_processor.py:127\u001b[0m, in \u001b[0;36mapply_to_fileset\u001b[0;34m(data_manipulation, fileset, schemaclass, uproot_options)\u001b[0m\n\u001b[1;32m    125\u001b[0m     metadata \u001b[38;5;241m=\u001b[39m {}\n\u001b[1;32m    126\u001b[0m metadata\u001b[38;5;241m.\u001b[39msetdefault(\u001b[38;5;124m\"\u001b[39m\u001b[38;5;124mdataset\u001b[39m\u001b[38;5;124m\"\u001b[39m, name)\n\u001b[0;32m--> 127\u001b[0m dataset_out \u001b[38;5;241m=\u001b[39m \u001b[43mapply_to_dataset\u001b[49m\u001b[43m(\u001b[49m\n\u001b[1;32m    128\u001b[0m \u001b[43m    \u001b[49m\u001b[43mdata_manipulation\u001b[49m\u001b[43m,\u001b[49m\u001b[43m \u001b[49m\u001b[43mdataset\u001b[49m\u001b[43m,\u001b[49m\u001b[43m \u001b[49m\u001b[43mschemaclass\u001b[49m\u001b[43m,\u001b[49m\u001b[43m \u001b[49m\u001b[43mmetadata\u001b[49m\u001b[43m,\u001b[49m\u001b[43m \u001b[49m\u001b[43muproot_options\u001b[49m\n\u001b[1;32m    129\u001b[0m \u001b[43m\u001b[49m\u001b[43m)\u001b[49m\n\u001b[1;32m    130\u001b[0m \u001b[38;5;28;01mif\u001b[39;00m \u001b[38;5;28misinstance\u001b[39m(dataset_out, \u001b[38;5;28mtuple\u001b[39m) \u001b[38;5;129;01mand\u001b[39;00m \u001b[38;5;28mlen\u001b[39m(dataset_out) \u001b[38;5;241m>\u001b[39m \u001b[38;5;241m1\u001b[39m:\n\u001b[1;32m    131\u001b[0m     out[name], report[name] \u001b[38;5;241m=\u001b[39m dataset_out\n",
      "File \u001b[0;32m/usr/local/lib/python3.12/site-packages/coffea/dataset_tools/apply_processor.py:82\u001b[0m, in \u001b[0;36mapply_to_dataset\u001b[0;34m(data_manipulation, dataset, schemaclass, metadata, uproot_options)\u001b[0m\n\u001b[1;32m     80\u001b[0m out \u001b[38;5;241m=\u001b[39m \u001b[38;5;28;01mNone\u001b[39;00m\n\u001b[1;32m     81\u001b[0m \u001b[38;5;28;01mif\u001b[39;00m \u001b[38;5;28misinstance\u001b[39m(data_manipulation, ProcessorABC):\n\u001b[0;32m---> 82\u001b[0m     out \u001b[38;5;241m=\u001b[39m \u001b[43mdata_manipulation\u001b[49m\u001b[38;5;241;43m.\u001b[39;49m\u001b[43mprocess\u001b[49m\u001b[43m(\u001b[49m\u001b[43mevents\u001b[49m\u001b[43m)\u001b[49m\n\u001b[1;32m     83\u001b[0m \u001b[38;5;28;01melif\u001b[39;00m \u001b[38;5;28misinstance\u001b[39m(data_manipulation, Callable):\n\u001b[1;32m     84\u001b[0m     out \u001b[38;5;241m=\u001b[39m data_manipulation(events)\n",
      "File \u001b[0;32m~/dwg_experimental/notebooks/new_AN_plots/AN_plot_processor.py:33\u001b[0m, in \u001b[0;36mProcessor.process\u001b[0;34m(self, events)\u001b[0m\n\u001b[1;32m     30\u001b[0m lowptelectron \u001b[38;5;241m=\u001b[39m events\u001b[38;5;241m.\u001b[39mLowPtElectron\n\u001b[1;32m     31\u001b[0m muon \u001b[38;5;241m=\u001b[39m events\u001b[38;5;241m.\u001b[39mMuon\n\u001b[0;32m---> 33\u001b[0m ele \u001b[38;5;241m=\u001b[39m \u001b[43mtag_and_combine_ele\u001b[49m\u001b[43m(\u001b[49m\u001b[43melectron\u001b[49m\u001b[43m,\u001b[49m\u001b[43m \u001b[49m\u001b[43mlowptelectron\u001b[49m\u001b[43m)\u001b[49m\n\u001b[1;32m     34\u001b[0m muon \u001b[38;5;241m=\u001b[39m tag_muon(muon)\n\u001b[1;32m     36\u001b[0m ele_dict \u001b[38;5;241m=\u001b[39m lep_analysis_dict(ele)\n",
      "File \u001b[0;32m~/dwg_experimental/src/analysis_tools/default_analysis.py:44\u001b[0m, in \u001b[0;36mtag_and_combine_ele\u001b[0;34m(electron, lowptelectron)\u001b[0m\n\u001b[1;32m     42\u001b[0m \u001b[38;5;28;01mdef\u001b[39;00m\u001b[38;5;250m \u001b[39m\u001b[38;5;21mtag_and_combine_ele\u001b[39m(electron, lowptelectron):\n\u001b[0;32m---> 44\u001b[0m     tagged_ele \u001b[38;5;241m=\u001b[39m \u001b[43mtag_ele\u001b[49m\u001b[43m(\u001b[49m\u001b[43melectron\u001b[49m\u001b[43m)\u001b[49m\n\u001b[1;32m     45\u001b[0m     tagged_lpte \u001b[38;5;241m=\u001b[39m tag_lpte(lowptelectron)\n\u001b[1;32m     47\u001b[0m     pt_selected_electron \u001b[38;5;241m=\u001b[39m tagged_ele[tagged_ele\u001b[38;5;241m.\u001b[39mpt \u001b[38;5;241m>\u001b[39m\u001b[38;5;241m=\u001b[39m \u001b[38;5;241m7\u001b[39m]\n",
      "File \u001b[0;32m~/dwg_experimental/src/analysis_tools/default_analysis.py:31\u001b[0m, in \u001b[0;36mtag_ele\u001b[0;34m(ele)\u001b[0m\n\u001b[1;32m     29\u001b[0m \u001b[38;5;28;01mdef\u001b[39;00m\u001b[38;5;250m \u001b[39m\u001b[38;5;21mtag_ele\u001b[39m(ele):\n\u001b[0;32m---> 31\u001b[0m     \u001b[38;5;28;01mreturn\u001b[39;00m \u001b[43mtag_qual\u001b[49m\u001b[43m(\u001b[49m\u001b[43mtag_gen\u001b[49m\u001b[43m(\u001b[49m\u001b[43mele\u001b[49m\u001b[43m,\u001b[49m\u001b[43m \u001b[49m\u001b[38;5;124;43m'\u001b[39;49m\u001b[38;5;124;43mele\u001b[39;49m\u001b[38;5;124;43m'\u001b[39;49m\u001b[43m)\u001b[49m\u001b[43m,\u001b[49m\u001b[43m \u001b[49m\u001b[38;5;124;43m'\u001b[39;49m\u001b[38;5;124;43mele\u001b[39;49m\u001b[38;5;124;43m'\u001b[39;49m\u001b[43m)\u001b[49m\n",
      "File \u001b[0;32m~/dwg_experimental/src/analysis_tools/taggers/lep_tagger.py:24\u001b[0m, in \u001b[0;36mtag_qual\u001b[0;34m(obj, ID)\u001b[0m\n\u001b[1;32m     21\u001b[0m     sys\u001b[38;5;241m.\u001b[39mexit(\u001b[38;5;124mf\u001b[39m\u001b[38;5;124m'\u001b[39m\u001b[38;5;124mID \u001b[39m\u001b[38;5;132;01m{\u001b[39;00mID\u001b[38;5;132;01m}\u001b[39;00m\u001b[38;5;124m not acceptable, must be in \u001b[39m\u001b[38;5;132;01m{\u001b[39;00macceptable_IDs\u001b[38;5;132;01m}\u001b[39;00m\u001b[38;5;124m'\u001b[39m)\n\u001b[1;32m     23\u001b[0m \u001b[38;5;28;01mif\u001b[39;00m ID_lower \u001b[38;5;129;01min\u001b[39;00m [\u001b[38;5;124m'\u001b[39m\u001b[38;5;124mele\u001b[39m\u001b[38;5;124m'\u001b[39m, \u001b[38;5;124m'\u001b[39m\u001b[38;5;124melectron\u001b[39m\u001b[38;5;124m'\u001b[39m]:\n\u001b[0;32m---> 24\u001b[0m     obj \u001b[38;5;241m=\u001b[39m \u001b[43mtag_ele_quality\u001b[49m\u001b[43m(\u001b[49m\u001b[43mobj\u001b[49m\u001b[43m)\u001b[49m\n\u001b[1;32m     25\u001b[0m \u001b[38;5;28;01melif\u001b[39;00m ID_lower \u001b[38;5;129;01min\u001b[39;00m [\u001b[38;5;124m'\u001b[39m\u001b[38;5;124mlpte\u001b[39m\u001b[38;5;124m'\u001b[39m, \u001b[38;5;124m'\u001b[39m\u001b[38;5;124mlowptelectron\u001b[39m\u001b[38;5;124m'\u001b[39m]: \n\u001b[1;32m     26\u001b[0m     obj \u001b[38;5;241m=\u001b[39m tag_lpte_quality(obj)\n",
      "File \u001b[0;32m~/dwg_experimental/src/analysis_tools/taggers/lep_tagger.py:82\u001b[0m, in \u001b[0;36mtag_ele_quality\u001b[0;34m(ele)\u001b[0m\n\u001b[1;32m     71\u001b[0m \u001b[38;5;66;03m# --- Quality tags ---\u001b[39;00m\n\u001b[1;32m     73\u001b[0m low_pt_pass \u001b[38;5;241m=\u001b[39m (\n\u001b[1;32m     74\u001b[0m     (pt \u001b[38;5;241m<\u001b[39m \u001b[38;5;241m20\u001b[39m)\n\u001b[1;32m     75\u001b[0m     \u001b[38;5;241m&\u001b[39m (iso03pt \u001b[38;5;241m<\u001b[39m\u001b[38;5;241m=\u001b[39m \u001b[38;5;241m4\u001b[39m)\n\u001b[1;32m     76\u001b[0m     \u001b[38;5;241m&\u001b[39m (miniIsoPt \u001b[38;5;241m<\u001b[39m\u001b[38;5;241m=\u001b[39m \u001b[38;5;241m4\u001b[39m)\n\u001b[1;32m     77\u001b[0m     \u001b[38;5;241m&\u001b[39m tight_minus_iso_hoe(ele)\n\u001b[1;32m     78\u001b[0m )\n\u001b[1;32m     80\u001b[0m high_pt_pass \u001b[38;5;241m=\u001b[39m (\n\u001b[1;32m     81\u001b[0m     (pt \u001b[38;5;241m>\u001b[39m\u001b[38;5;241m=\u001b[39m \u001b[38;5;241m20\u001b[39m) \n\u001b[0;32m---> 82\u001b[0m     \u001b[38;5;241m&\u001b[39m \u001b[43mele\u001b[49m\u001b[38;5;241;43m.\u001b[39;49m\u001b[43mmvaIso_WP90\u001b[49m\n\u001b[1;32m     83\u001b[0m )\n\u001b[1;32m     86\u001b[0m gold_silver_mask \u001b[38;5;241m=\u001b[39m baseline_mask \u001b[38;5;241m&\u001b[39m (low_pt_pass \u001b[38;5;241m|\u001b[39m high_pt_pass)\n\u001b[1;32m     89\u001b[0m gold_mask \u001b[38;5;241m=\u001b[39m (\n\u001b[1;32m     90\u001b[0m     gold_silver_mask\n\u001b[1;32m     91\u001b[0m     \u001b[38;5;241m&\u001b[39m (ele\u001b[38;5;241m.\u001b[39msip3d \u001b[38;5;241m<\u001b[39m global_sip3d)\n\u001b[1;32m     92\u001b[0m )\n",
      "File \u001b[0;32m/usr/local/lib/python3.12/site-packages/dask_awkward/lib/core.py:1605\u001b[0m, in \u001b[0;36mArray.__getattr__\u001b[0;34m(self, attr)\u001b[0m\n\u001b[1;32m   1603\u001b[0m     cls_method \u001b[38;5;241m=\u001b[39m getattr_static(\u001b[38;5;28mself\u001b[39m\u001b[38;5;241m.\u001b[39m_meta, attr)\n\u001b[1;32m   1604\u001b[0m \u001b[38;5;28;01mexcept\u001b[39;00m \u001b[38;5;167;01mAttributeError\u001b[39;00m:\n\u001b[0;32m-> 1605\u001b[0m     \u001b[38;5;28;01mraise\u001b[39;00m \u001b[38;5;167;01mAttributeError\u001b[39;00m(\u001b[38;5;124mf\u001b[39m\u001b[38;5;124m\"\u001b[39m\u001b[38;5;132;01m{\u001b[39;00mattr\u001b[38;5;132;01m}\u001b[39;00m\u001b[38;5;124m not in fields.\u001b[39m\u001b[38;5;124m\"\u001b[39m)\n\u001b[1;32m   1606\u001b[0m \u001b[38;5;28;01melse\u001b[39;00m:\n\u001b[1;32m   1607\u001b[0m     \u001b[38;5;28;01mif\u001b[39;00m \u001b[38;5;28mhasattr\u001b[39m(cls_method, \u001b[38;5;124m\"\u001b[39m\u001b[38;5;124m_dask_get\u001b[39m\u001b[38;5;124m\"\u001b[39m):\n",
      "\u001b[0;31mAttributeError\u001b[0m: mvaIso_WP90 not in fields."
     ]
    }
   ],
   "source": [
    "import cloudpickle\n",
    "\n",
    "results = {}\n",
    "\n",
    "for AOD_type in run_on.keys():\n",
    "    for year in run_on[AOD_type]:\n",
    "        for sample_name in run_on[AOD_type][year]:\n",
    "            #print(run_on[AOD_type][year][sample_name].keys())\n",
    "            entry = run_on[AOD_type][year][sample_name]\n",
    "            print(f\"sample in json: {sample_name}\")\n",
    "            \n",
    "\n",
    "            if entry['run']:\n",
    "\n",
    "                preprocessed_file_path = (\n",
    "                    path_to_master_json / \n",
    "                    datasets[AOD_type][year][sample_name]['preprocessed_file']\n",
    "                )\n",
    "\n",
    "                with gzip.open(preprocessed_file_path, \"rt\") as f:\n",
    "                    preprocessed_file = json.load(f)\n",
    "\n",
    "                num_files = entry['num_files']\n",
    "                num_chunks = entry['num_chunks']\n",
    "\n",
    "                client = Client(\"tls://localhost:8786\")\n",
    "\n",
    "                if entry[\"use_client\"]:\n",
    "                    print(\"using client\")\n",
    "                else:\n",
    "                    client.close()\n",
    "                    \n",
    "                \n",
    "                if entry['reduced_computation']:\n",
    "                    test_files  = max_files(preprocessed_file, num_files)\n",
    "                    test_chunks = max_chunks(test_files, num_chunks)\n",
    "                \n",
    "                    tg, rep = apply_to_fileset(\n",
    "                        data_manipulation=Processor(),\n",
    "                        fileset=test_chunks,\n",
    "                        schemaclass=NanoAODSchema,\n",
    "                        uproot_options={\"allow_read_errors_with_report\": (OSError, KeyError)},\n",
    "                    )\n",
    "                else:\n",
    "                    tg, rep = apply_to_fileset(\n",
    "                        data_manipulation=Processor(),\n",
    "                        fileset=preprocessed_file,\n",
    "                        schemaclass=NanoAODSchema,\n",
    "                        uproot_options={\"allow_read_errors_with_report\": (OSError, KeyError)},\n",
    "                    )\n",
    "\n",
    "                #client.scheduler_info()\n",
    "                print(\"sample loaded, running, hold please.........\")\n",
    "                result, report = dask.compute(tg, rep)\n",
    "\n",
    "                pikl_result_path = Path('pikls') / processor_name\n",
    "                pikl_result_path.mkdir(parents=True, exist_ok=True)\n",
    "                with open(pikl_result_path / f\"{sample_name}.pkl\", \"wb\") as f:\n",
    "                    cloudpickle.dump(result, f)\n",
    "                \n",
    "                #ak.to_json(report[], f\"pikls/{sample_name}_{processor_name}_report.json\", num_indent_spaces=2)\n",
    "                print(f\"done with {sample_name}\")\n",
    "            else:\n",
    "                print('skipping')\n",
    "                continue\n",
    "if client.status == 'running':\n",
    "    client.close()"
   ]
  },
  {
   "cell_type": "code",
   "execution_count": null,
   "id": "dedecd2c-2d7e-4999-a38c-b7750ee8c50a",
   "metadata": {},
   "outputs": [],
   "source": [
    "r = result[list(result)[0]]"
   ]
  },
  {
   "cell_type": "code",
   "execution_count": null,
   "id": "38c80f87-b317-4401-97c3-092a1166d273",
   "metadata": {},
   "outputs": [],
   "source": [
    "r"
   ]
  },
  {
   "cell_type": "code",
   "execution_count": null,
   "id": "bb63fecc-dc49-409b-b6a3-2aceea9054a9",
   "metadata": {},
   "outputs": [],
   "source": [
    "import matplotlib.pyplot as plt\n",
    "import matplotlib.colors as colors\n",
    "import mplhep\n",
    "mplhep.style.use(mplhep.style.CMS)\n",
    "plt.figure()\n",
    "mplhep.style.use(mplhep.style.CMS)"
   ]
  },
  {
   "cell_type": "code",
   "execution_count": null,
   "id": "a34647da-cb28-4242-be20-97b1c0732a94",
   "metadata": {},
   "outputs": [],
   "source": [
    "r['ele_dict']['pt_eta_hist'].project('pt').plot()\n",
    "plt.xlim(0,10)"
   ]
  },
  {
   "cell_type": "code",
   "execution_count": null,
   "id": "60edde09-e787-4f8c-9029-f4253302abed",
   "metadata": {},
   "outputs": [],
   "source": []
  },
  {
   "cell_type": "code",
   "execution_count": null,
   "id": "42fbe57d-8eb9-4736-b12d-7670c08041a9",
   "metadata": {},
   "outputs": [],
   "source": []
  },
  {
   "cell_type": "code",
   "execution_count": null,
   "id": "415ffcdc-21bb-4df0-8ada-184a29a8af7a",
   "metadata": {},
   "outputs": [],
   "source": []
  },
  {
   "cell_type": "code",
   "execution_count": null,
   "id": "14611eb9-926d-42a9-b84c-5d8218f6a1fb",
   "metadata": {},
   "outputs": [],
   "source": []
  }
 ],
 "metadata": {
  "kernelspec": {
   "display_name": "Python 3 (ipykernel)",
   "language": "python",
   "name": "python3"
  },
  "language_info": {
   "codemirror_mode": {
    "name": "ipython",
    "version": 3
   },
   "file_extension": ".py",
   "mimetype": "text/x-python",
   "name": "python",
   "nbconvert_exporter": "python",
   "pygments_lexer": "ipython3",
   "version": "3.12.5"
  }
 },
 "nbformat": 4,
 "nbformat_minor": 5
}
