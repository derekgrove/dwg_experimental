{
 "cells": [
  {
   "cell_type": "code",
   "execution_count": 1,
   "id": "1f272b23-433e-4dc6-99ca-6c1748a7bff6",
   "metadata": {},
   "outputs": [
    {
     "name": "stderr",
     "output_type": "stream",
     "text": [
      "/usr/local/lib/python3.12/site-packages/coffea/nanoevents/schemas/fcc.py:5: FutureWarning: In version 2025.1.0 (target date: 2024-12-31 11:59:59-06:00), this will be an error.\n",
      "To raise these warnings as errors (and get stack traces to find out where they're called), run\n",
      "    import warnings\n",
      "    warnings.filterwarnings(\"error\", module=\"coffea.*\")\n",
      "after the first `import coffea` or use `@pytest.mark.filterwarnings(\"error:::coffea.*\")` in pytest.\n",
      "Issue: coffea.nanoevents.methods.vector will be removed and replaced with scikit-hep vector. Nanoevents schemas internal to coffea will be migrated. Otherwise please consider using that package!.\n",
      "  from coffea.nanoevents.methods import vector\n"
     ]
    }
   ],
   "source": [
    "# ========================\n",
    "# Step 1: Imports\n",
    "# ========================\n",
    "\n",
    "import os\n",
    "import gzip\n",
    "import json\n",
    "import dask\n",
    "import awkward as ak\n",
    "import numpy as np\n",
    "import sys\n",
    "import importlib\n",
    "\n",
    "from coffea.nanoevents import NanoAODSchema\n",
    "from coffea.dataset_tools import apply_to_fileset, max_chunks, max_files\n",
    "from dask.distributed import Client\n",
    "from pathlib import Path\n",
    "\n",
    "current_dir = Path.cwd()\n",
    "#print(current_dir)\n",
    "#processors_dir = current_dir.parent / \"processors\"\n",
    "processors_dir = current_dir # used to keep processors separate but that was bad\n",
    "path_to_run_on = current_dir.parent\n",
    "path_to_master_json = current_dir.parent.parent / \"src\" / \"dataset_tools\"\n",
    "\n",
    "sys.path.append(str(processors_dir))\n",
    "\n",
    "processor_name = \"AN_plot_processor_UL\" # without .py\n",
    "run_on_name = \"run_on_UL.json\"\n",
    "\n",
    "processor_module = importlib.import_module(processor_name)\n",
    "Processor = processor_module.Processor"
   ]
  },
  {
   "cell_type": "code",
   "execution_count": 2,
   "id": "ef528e6e-0764-463f-92b6-5c5f041bb838",
   "metadata": {},
   "outputs": [],
   "source": [
    "import json\n",
    "\n",
    "with open(path_to_master_json / \"datasets_master.json\") as file:\n",
    "    datasets = json.load(file)\n",
    "\n",
    "with open(path_to_run_on / run_on_name) as file:\n",
    "    run_on = json.load(file)\n",
    "#print(run_on)"
   ]
  },
  {
   "cell_type": "code",
   "execution_count": 3,
   "id": "442f0622-21db-4b95-b737-8f241d2f1948",
   "metadata": {},
   "outputs": [
    {
     "name": "stdout",
     "output_type": "stream",
     "text": [
      "sample in json: TChiWZ_UL\n"
     ]
    },
    {
     "name": "stderr",
     "output_type": "stream",
     "text": [
      "/usr/local/lib/python3.12/site-packages/coffea/nanoevents/schemas/nanoaod.py:264: RuntimeWarning: Missing cross-reference index for LowPtElectron_electronIdx => Electron\n",
      "  warnings.warn(\n",
      "/usr/local/lib/python3.12/site-packages/coffea/nanoevents/schemas/nanoaod.py:264: RuntimeWarning: Missing cross-reference index for LowPtElectron_photonIdx => Photon\n",
      "  warnings.warn(\n"
     ]
    },
    {
     "name": "stdout",
     "output_type": "stream",
     "text": [
      "sample loaded, running, hold please.........\n",
      "done with TChiWZ_UL\n",
      "sample in json: TSlepSlep_UL\n",
      "skipping\n",
      "sample in json: TTtoDiJet\n"
     ]
    },
    {
     "name": "stderr",
     "output_type": "stream",
     "text": [
      "/usr/local/lib/python3.12/site-packages/coffea/nanoevents/schemas/nanoaod.py:264: RuntimeWarning: Missing cross-reference index for LowPtElectron_electronIdx => Electron\n",
      "  warnings.warn(\n",
      "/usr/local/lib/python3.12/site-packages/coffea/nanoevents/schemas/nanoaod.py:264: RuntimeWarning: Missing cross-reference index for LowPtElectron_photonIdx => Photon\n",
      "  warnings.warn(\n"
     ]
    },
    {
     "name": "stdout",
     "output_type": "stream",
     "text": [
      "sample loaded, running, hold please.........\n",
      "done with TTtoDiJet\n"
     ]
    }
   ],
   "source": [
    "import cloudpickle\n",
    "\n",
    "results = {}\n",
    "\n",
    "for AOD_type in run_on.keys():\n",
    "    for year in run_on[AOD_type]:\n",
    "        for sample_name in run_on[AOD_type][year]:\n",
    "            #print(run_on[AOD_type][year][sample_name].keys())\n",
    "            entry = run_on[AOD_type][year][sample_name]\n",
    "            print(f\"sample in json: {sample_name}\")\n",
    "            \n",
    "\n",
    "            if entry['run']:\n",
    "\n",
    "                preprocessed_file_path = (\n",
    "                    path_to_master_json / \n",
    "                    datasets[AOD_type][year][sample_name]['preprocessed_file']\n",
    "                )\n",
    "\n",
    "                with gzip.open(preprocessed_file_path, \"rt\") as f:\n",
    "                    preprocessed_file = json.load(f)\n",
    "\n",
    "                num_files = entry['num_files']\n",
    "                num_chunks = entry['num_chunks']\n",
    "\n",
    "                client = Client(\"tls://localhost:8786\")\n",
    "\n",
    "                if entry[\"use_client\"]:\n",
    "                    print(\"using client\")\n",
    "                else:\n",
    "                    client.close()\n",
    "                    \n",
    "                \n",
    "                if entry['reduced_computation']:\n",
    "                    test_files  = max_files(preprocessed_file, num_files)\n",
    "                    test_chunks = max_chunks(test_files, num_chunks)\n",
    "                \n",
    "                    tg, rep = apply_to_fileset(\n",
    "                        data_manipulation=Processor(),\n",
    "                        fileset=test_chunks,\n",
    "                        schemaclass=NanoAODSchema,\n",
    "                        uproot_options={\"allow_read_errors_with_report\": (OSError, KeyError)},\n",
    "                    )\n",
    "                else:\n",
    "                    tg, rep = apply_to_fileset(\n",
    "                        data_manipulation=Processor(),\n",
    "                        fileset=preprocessed_file,\n",
    "                        schemaclass=NanoAODSchema,\n",
    "                        uproot_options={\"allow_read_errors_with_report\": (OSError, KeyError)},\n",
    "                    )\n",
    "\n",
    "                #client.scheduler_info()\n",
    "                print(\"sample loaded, running, hold please.........\")\n",
    "                result, report = dask.compute(tg, rep)\n",
    "\n",
    "                pikl_result_path = Path('pikls') / processor_name\n",
    "                pikl_result_path.mkdir(parents=True, exist_ok=True)\n",
    "                with open(pikl_result_path / f\"{sample_name}.pkl\", \"wb\") as f:\n",
    "                    cloudpickle.dump(result, f)\n",
    "                \n",
    "                #ak.to_json(report[], f\"pikls/{sample_name}_{processor_name}_report.json\", num_indent_spaces=2)\n",
    "                print(f\"done with {sample_name}\")\n",
    "            else:\n",
    "                print('skipping')\n",
    "                continue\n",
    "if client.status == 'running':\n",
    "    client.close()"
   ]
  },
  {
   "cell_type": "code",
   "execution_count": 4,
   "id": "dedecd2c-2d7e-4999-a38c-b7750ee8c50a",
   "metadata": {},
   "outputs": [],
   "source": [
    "r = result[list(result)[0]]"
   ]
  },
  {
   "cell_type": "code",
   "execution_count": 5,
   "id": "38c80f87-b317-4401-97c3-092a1166d273",
   "metadata": {},
   "outputs": [
    {
     "data": {
      "text/plain": [
       "{'total_entries': 3404243,\n",
       " 'ele_dict': {'pt_eta_hist': Hist(\n",
       "    Variable([2, 3, 4, 5, 7, 10, 20, 45, 75, 1000], name='pt'),\n",
       "    Variable([0, 0.8, 1.4442, 1.556, 2.5], name='eta'),\n",
       "    IntCategory([-10, 10, 11, 12, 13], name='gen_tag'),\n",
       "    IntCategory([-1, 1, 2, 3], name='qual_tag'),\n",
       "    storage=Double()) # Sum: 5027422.0 (5439180.0 with flow),\n",
       "  'pt_AN_hist_v1': Hist(\n",
       "    Regular(40, 0, 100, name='pt'),\n",
       "    IntCategory([-10, 10, 11, 12, 13], name='gen_tag'),\n",
       "    IntCategory([-1, 1, 2, 3], name='qual_tag'),\n",
       "    storage=Double()) # Sum: 5197835.0 (5439180.0 with flow),\n",
       "  'pt_AN_hist_v2': Hist(\n",
       "    Variable(array([  2. ,   3. ,   4. ,   5. ,   7. ,  10. ,  12.5,  15. ,  17.5,\n",
       "          20. ,  22.5,  25. ,  27.5,  30. ,  32.5,  35. ,  37.5,  40. ,\n",
       "          42.5,  45. ,  47.5,  50. ,  52.5,  55. ,  57.5,  60. ,  62.5,\n",
       "          65. ,  67.5,  70. ,  72.5,  75. ,  77.5,  80. ,  82.5,  85. ,\n",
       "          87.5,  90. ,  92.5,  95. ,  97.5, 100. ]), name='pt'),\n",
       "    IntCategory([-10, 10, 11, 12, 13], name='gen_tag'),\n",
       "    IntCategory([-1, 1, 2, 3], name='qual_tag'),\n",
       "    storage=Double()) # Sum: 4906593.0 (5439180.0 with flow),\n",
       "  'pt_AN_hist_v3': Hist(\n",
       "    Variable(array([  2. ,   5. ,   7.5,  10. ,  12.5,  15. ,  17.5,  20. ,  22.5,\n",
       "          25. ,  27.5,  30. ,  32.5,  35. ,  37.5,  40. ,  42.5,  45. ,\n",
       "          47.5,  50. ,  52.5,  55. ,  57.5,  60. ,  62.5,  65. ,  67.5,\n",
       "          70. ,  72.5,  75. ,  77.5,  80. ,  82.5,  85. ,  87.5,  90. ,\n",
       "          92.5,  95. ,  97.5, 100. ]), name='pt'),\n",
       "    IntCategory([-10, 10, 11, 12, 13], name='gen_tag'),\n",
       "    IntCategory([-1, 1, 2, 3], name='qual_tag'),\n",
       "    storage=Double()) # Sum: 4906593.0 (5439180.0 with flow),\n",
       "  'pt_AN_hist_muon': Hist(\n",
       "    Variable(array([  3. ,   5. ,   7.5,  10. ,  12.5,  15. ,  17.5,  20. ,  22.5,\n",
       "          25. ,  27.5,  30. ,  32.5,  35. ,  37.5,  40. ,  42.5,  45. ,\n",
       "          47.5,  50. ,  52.5,  55. ,  57.5,  60. ,  62.5,  65. ,  67.5,\n",
       "          70. ,  72.5,  75. ,  77.5,  80. ,  82.5,  85. ,  87.5,  90. ,\n",
       "          92.5,  95. ,  97.5, 100. ]), name='pt'),\n",
       "    IntCategory([-10, 10, 11, 12, 13], name='gen_tag'),\n",
       "    IntCategory([-1, 1, 2, 3], name='qual_tag'),\n",
       "    storage=Double()) # Sum: 4429408.0 (5439180.0 with flow)},\n",
       " 'muon_dict': {'pt_eta_hist': Hist(\n",
       "    Variable([2, 3, 4, 5, 7, 10, 20, 45, 75, 1000], name='pt'),\n",
       "    Variable([0, 0.8, 1.4442, 1.556, 2.5], name='eta'),\n",
       "    IntCategory([-10, 10, 11, 12, 13], name='gen_tag'),\n",
       "    IntCategory([-1, 1, 2, 3], name='qual_tag'),\n",
       "    storage=Double()) # Sum: 4298954.0 (4306649.0 with flow),\n",
       "  'pt_AN_hist_v1': Hist(\n",
       "    Regular(40, 0, 100, name='pt'),\n",
       "    IntCategory([-10, 10, 11, 12, 13], name='gen_tag'),\n",
       "    IntCategory([-1, 1, 2, 3], name='qual_tag'),\n",
       "    storage=Double()) # Sum: 4059199.0 (4306649.0 with flow),\n",
       "  'pt_AN_hist_v2': Hist(\n",
       "    Variable(array([  2. ,   3. ,   4. ,   5. ,   7. ,  10. ,  12.5,  15. ,  17.5,\n",
       "          20. ,  22.5,  25. ,  27.5,  30. ,  32.5,  35. ,  37.5,  40. ,\n",
       "          42.5,  45. ,  47.5,  50. ,  52.5,  55. ,  57.5,  60. ,  62.5,\n",
       "          65. ,  67.5,  70. ,  72.5,  75. ,  77.5,  80. ,  82.5,  85. ,\n",
       "          87.5,  90. ,  92.5,  95. ,  97.5, 100. ]), name='pt'),\n",
       "    IntCategory([-10, 10, 11, 12, 13], name='gen_tag'),\n",
       "    IntCategory([-1, 1, 2, 3], name='qual_tag'),\n",
       "    storage=Double()) # Sum: 4059199.0 (4306649.0 with flow),\n",
       "  'pt_AN_hist_v3': Hist(\n",
       "    Variable(array([  2. ,   5. ,   7.5,  10. ,  12.5,  15. ,  17.5,  20. ,  22.5,\n",
       "          25. ,  27.5,  30. ,  32.5,  35. ,  37.5,  40. ,  42.5,  45. ,\n",
       "          47.5,  50. ,  52.5,  55. ,  57.5,  60. ,  62.5,  65. ,  67.5,\n",
       "          70. ,  72.5,  75. ,  77.5,  80. ,  82.5,  85. ,  87.5,  90. ,\n",
       "          92.5,  95. ,  97.5, 100. ]), name='pt'),\n",
       "    IntCategory([-10, 10, 11, 12, 13], name='gen_tag'),\n",
       "    IntCategory([-1, 1, 2, 3], name='qual_tag'),\n",
       "    storage=Double()) # Sum: 4059199.0 (4306649.0 with flow),\n",
       "  'pt_AN_hist_muon': Hist(\n",
       "    Variable(array([  3. ,   5. ,   7.5,  10. ,  12.5,  15. ,  17.5,  20. ,  22.5,\n",
       "          25. ,  27.5,  30. ,  32.5,  35. ,  37.5,  40. ,  42.5,  45. ,\n",
       "          47.5,  50. ,  52.5,  55. ,  57.5,  60. ,  62.5,  65. ,  67.5,\n",
       "          70. ,  72.5,  75. ,  77.5,  80. ,  82.5,  85. ,  87.5,  90. ,\n",
       "          92.5,  95. ,  97.5, 100. ]), name='pt'),\n",
       "    IntCategory([-10, 10, 11, 12, 13], name='gen_tag'),\n",
       "    IntCategory([-1, 1, 2, 3], name='qual_tag'),\n",
       "    storage=Double()) # Sum: 4059199.0 (4306649.0 with flow)},\n",
       " 'lpte_dict': {'pt_eta_hist': Hist(\n",
       "    Variable([1, 2, 3, 4, 5, 7, 10, 20, 45, 75, 1000], name='pt'),\n",
       "    Variable([0, 0.8, 1.4442, 1.556, 2.5], name='eta'),\n",
       "    IntCategory([-10, 10, 11, 12, 13], name='gen_tag'),\n",
       "    IntCategory([-1, 1, 2, 3], name='qual_tag'),\n",
       "    storage=Double()) # Sum: 4229429.0 (4410397.0 with flow),\n",
       "  'pt_ID_hist': Hist(\n",
       "    Regular(20, 0, 20, name='pt'),\n",
       "    Regular(100, 0, 10, name='ID'),\n",
       "    IntCategory([-10, 10, 11, 12, 13], name='gen_tag'),\n",
       "    IntCategory([-1, 1, 2, 3], name='qual_tag'),\n",
       "    storage=Double()) # Sum: 2364844.0 (4410397.0 with flow)}}"
      ]
     },
     "execution_count": 5,
     "metadata": {},
     "output_type": "execute_result"
    }
   ],
   "source": [
    "r"
   ]
  },
  {
   "cell_type": "code",
   "execution_count": 6,
   "id": "bb63fecc-dc49-409b-b6a3-2aceea9054a9",
   "metadata": {},
   "outputs": [
    {
     "data": {
      "text/plain": [
       "<Figure size 1000x1000 with 0 Axes>"
      ]
     },
     "metadata": {},
     "output_type": "display_data"
    }
   ],
   "source": [
    "import matplotlib.pyplot as plt\n",
    "import matplotlib.colors as colors\n",
    "import mplhep\n",
    "mplhep.style.use(mplhep.style.CMS)\n",
    "plt.figure()\n",
    "mplhep.style.use(mplhep.style.CMS)"
   ]
  },
  {
   "cell_type": "code",
   "execution_count": 7,
   "id": "a34647da-cb28-4242-be20-97b1c0732a94",
   "metadata": {},
   "outputs": [
    {
     "data": {
      "text/plain": [
       "(0.0, 10.0)"
      ]
     },
     "execution_count": 7,
     "metadata": {},
     "output_type": "execute_result"
    },
    {
     "data": {
      "image/png": "[encoded data removed]",
      "text/plain": [
       "<Figure size 1000x1000 with 1 Axes>"
      ]
     },
     "metadata": {},
     "output_type": "display_data"
    }
   ],
   "source": [
    "r['ele_dict']['pt_eta_hist'].project('pt').plot()\n",
    "plt.xlim(0,10)"
   ]
  },
  {
   "cell_type": "code",
   "execution_count": null,
   "id": "60edde09-e787-4f8c-9029-f4253302abed",
   "metadata": {},
   "outputs": [],
   "source": []
  },
  {
   "cell_type": "code",
   "execution_count": null,
   "id": "42fbe57d-8eb9-4736-b12d-7670c08041a9",
   "metadata": {},
   "outputs": [],
   "source": []
  },
  {
   "cell_type": "code",
   "execution_count": null,
   "id": "415ffcdc-21bb-4df0-8ada-184a29a8af7a",
   "metadata": {},
   "outputs": [],
   "source": []
  },
  {
   "cell_type": "code",
   "execution_count": null,
   "id": "14611eb9-926d-42a9-b84c-5d8218f6a1fb",
   "metadata": {},
   "outputs": [],
   "source": []
  }
 ],
 "metadata": {
  "kernelspec": {
   "display_name": "Python 3 (ipykernel)",
   "language": "python",
   "name": "python3"
  },
  "language_info": {
   "codemirror_mode": {
    "name": "ipython",
    "version": 3
   },
   "file_extension": ".py",
   "mimetype": "text/x-python",
   "name": "python",
   "nbconvert_exporter": "python",
   "pygments_lexer": "ipython3",
   "version": "3.12.5"
  }
 },
 "nbformat": 4,
 "nbformat_minor": 5
}
