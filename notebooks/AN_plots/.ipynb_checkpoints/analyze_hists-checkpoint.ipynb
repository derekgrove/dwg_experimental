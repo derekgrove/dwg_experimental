{
 "cells": [
  {
   "cell_type": "code",
   "execution_count": 1,
   "id": "3feb3cfd-c428-4992-ad0e-ad65f07218b4",
   "metadata": {},
   "outputs": [],
   "source": [
    "import hist\n",
    "import numpy as np\n",
    "import os\n",
    "from pathlib import Path\n",
    "import sys"
   ]
  },
  {
   "cell_type": "code",
   "execution_count": 2,
   "id": "cf705ddc-d331-418e-b6f3-107f0c2a6f84",
   "metadata": {},
   "outputs": [],
   "source": [
    "current_dir = Path.cwd()\n",
    "pikls = current_dir / 'pikls' / 'AN_plot_processor'\n",
    "src = current_dir.parent.parent / 'src'\n",
    "\n",
    "sys.path.append(str(src))\n",
    "sys.path.append(str(pikls))\n",
    "\n",
    "from analysis_tools.plotting.efficiencies import calc_eff_err"
   ]
  },
  {
   "cell_type": "code",
   "execution_count": 3,
   "id": "69b1a10f-983e-409d-b878-c21a3783b633",
   "metadata": {},
   "outputs": [
    {
     "name": "stdout",
     "output_type": "stream",
     "text": [
      "/home/cms-jovyan/dwg_experimental/notebooks/2D_AN_plots/pikls/2D_AN_plot_processor/SlepSnu_MN1-270_MN2-280_MC1-275.pkl\n",
      "/home/cms-jovyan/dwg_experimental/notebooks/2D_AN_plots/pikls/2D_AN_plot_processor/TTto2L2Nu.pkl\n"
     ]
    }
   ],
   "source": [
    "pikls_to_open = []\n",
    "for file in pikls.iterdir():\n",
    "    print(file)\n",
    "    pikls_to_open.append(file)"
   ]
  },
  {
   "cell_type": "code",
   "execution_count": 4,
   "id": "a5a1982d-efa0-4b7a-a48a-0bcaf5e11dec",
   "metadata": {},
   "outputs": [
    {
     "data": {
      "text/plain": [
       "[PosixPath('/home/cms-jovyan/dwg_experimental/notebooks/2D_AN_plots/pikls/2D_AN_plot_processor/SlepSnu_MN1-270_MN2-280_MC1-275.pkl'),\n",
       " PosixPath('/home/cms-jovyan/dwg_experimental/notebooks/2D_AN_plots/pikls/2D_AN_plot_processor/TTto2L2Nu.pkl')]"
      ]
     },
     "execution_count": 4,
     "metadata": {},
     "output_type": "execute_result"
    }
   ],
   "source": [
    "pikls_to_open"
   ]
  },
  {
   "cell_type": "code",
   "execution_count": 5,
   "id": "7709027f-cce7-43cf-b2f6-6cd92e150e8a",
   "metadata": {},
   "outputs": [
    {
     "name": "stdout",
     "output_type": "stream",
     "text": [
      "SlepSnuCascade_MN1-270_MN2-280_MC1-275_TuneCP5_13p6TeV_madgraphMLM-pythia8130X_mcRun3_2023_realistic_postBPix_v6-v3\n",
      "TTto2L2Nu_TuneCP5_13p6TeV_powheg-pythia8130X_mcRun3_2023_realistic_v14-v2\n"
     ]
    }
   ],
   "source": [
    "import cloudpickle\n",
    "\n",
    "results = {}\n",
    "\n",
    "for file in pikls_to_open:\n",
    "    with open(file, \"rb\") as f:\n",
    "        result = cloudpickle.load(f)\n",
    "        for key, value in result.items():\n",
    "            print(key)\n",
    "            results[key]=value"
   ]
  },
  {
   "cell_type": "code",
   "execution_count": 6,
   "id": "5b146bef-6c95-4217-8e65-1057cb2e65a6",
   "metadata": {},
   "outputs": [
    {
     "data": {
      "text/plain": [
       "dict_keys(['SlepSnuCascade_MN1-270_MN2-280_MC1-275_TuneCP5_13p6TeV_madgraphMLM-pythia8130X_mcRun3_2023_realistic_postBPix_v6-v3', 'TTto2L2Nu_TuneCP5_13p6TeV_powheg-pythia8130X_mcRun3_2023_realistic_v14-v2'])"
      ]
     },
     "execution_count": 6,
     "metadata": {},
     "output_type": "execute_result"
    }
   ],
   "source": [
    "results.keys()"
   ]
  },
  {
   "cell_type": "code",
   "execution_count": 7,
   "id": "cd2eddbf-d1a0-40d5-b2e0-96525e19a1e0",
   "metadata": {},
   "outputs": [
    {
     "data": {
      "text/plain": [
       "'SlepSnuCascade_MN1-270_MN2-280_MC1-275_TuneCP5_13p6TeV_madgraphMLM-pythia8130X_mcRun3_2023_realistic_postBPix_v6-v3'"
      ]
     },
     "execution_count": 7,
     "metadata": {},
     "output_type": "execute_result"
    }
   ],
   "source": [
    "list(results.keys())[0]"
   ]
  },
  {
   "cell_type": "code",
   "execution_count": 8,
   "id": "e9feac17-b652-4f37-829b-7c62108f5ef1",
   "metadata": {},
   "outputs": [],
   "source": [
    "r = results[list(results.keys())[0]]"
   ]
  },
  {
   "cell_type": "code",
   "execution_count": 9,
   "id": "c603f092-b781-42ad-9e04-02a4d6c67026",
   "metadata": {
    "scrolled": true
   },
   "outputs": [
    {
     "data": {
      "text/plain": [
       "{'total_entries': 459524,\n",
       " 'ele_dict': {'pt_eta_hist': Hist(\n",
       "    Variable([2, 3, 4, 5, 7, 10, 20, 45, 75, 1000], name='pt'),\n",
       "    Variable([0, 0.8, 1.442, 1.556, 2.5], name='eta'),\n",
       "    IntCategory([-10, 10, 11, 12, 13], name='gen_tag'),\n",
       "    IntCategory([-1, 0, 1, 2, 3], name='qual_tag'),\n",
       "    storage=Double()) # Sum: 435009.0 (480359.0 with flow)},\n",
       " 'muon_dict': {'pt_eta_hist': Hist(\n",
       "    Variable([2, 3, 4, 5, 7, 10, 20, 45, 75, 1000], name='pt'),\n",
       "    Variable([0, 0.8, 1.442, 1.556, 2.5], name='eta'),\n",
       "    IntCategory([-10, 10, 11, 12, 13], name='gen_tag'),\n",
       "    IntCategory([-1, 0, 1, 2, 3], name='qual_tag'),\n",
       "    storage=Double()) # Sum: 410319.0 (411090.0 with flow)}}"
      ]
     },
     "execution_count": 9,
     "metadata": {},
     "output_type": "execute_result"
    }
   ],
   "source": [
    "r"
   ]
  },
  {
   "cell_type": "code",
   "execution_count": 10,
   "id": "22334690-c4c9-47a9-bf7b-80e34230c591",
   "metadata": {},
   "outputs": [],
   "source": [
    "def make_plot_pt_ID(hist, title, num_events, sample_name, filename):\n",
    "    plt.title(title, pad=35, fontsize=35)\n",
    "    vmin = 0.0001\n",
    "    vmax = 0.01\n",
    "    \n",
    "\n",
    "    # Normalize bin contents\n",
    "    view = hist.view(flow=False)\n",
    "    norm = view.sum()\n",
    "    if norm > 0:\n",
    "        hist.view(flow=False)[:] = view / norm  # overwrite in place\n",
    "\n",
    "    mplhep.cms.label(loc=0, fontsize=20, com=13.6)\n",
    "    plt.text(2.5, -0.8, f\"numEvents = {num_events}\", fontsize=15)\n",
    "    plt.text(-0.5, 0, f\"sample: {sample_name}\", fontsize=13, rotation=90)\n",
    "    \n",
    "    #hist.plot2d(norm=colors.LogNorm(vmin=vmin, vmax=vmax))\n",
    "    hist.plot2d(norm=colors.LogNorm(vmin=vmin, vmax=vmax))\n",
    "    #hist.plot2d()\n",
    "\n",
    "    plt.yticks(range(int(plt.ylim()[0]), int(plt.ylim()[1]) + 1, 2))\n",
    "    plt.axhline(y=1.5, color='red', linestyle='--', linewidth=3)\n",
    "    plt.savefig(filename)\n",
    "    plt.show()"
   ]
  },
  {
   "cell_type": "code",
   "execution_count": 11,
   "id": "957bb657-89c8-497a-86f2-7851d734efa3",
   "metadata": {},
   "outputs": [],
   "source": [
    "def make_plot_pt_ID_v2(ax, hist, title, num_events, sample_name, filename):\n",
    "    vmin = 0.0001\n",
    "    vmax = 0.01\n",
    "\n",
    "    # Normalize bin contents\n",
    "    view = hist.view(flow=False)\n",
    "    norm = view.sum()\n",
    "    if norm > 0:\n",
    "        hist.view(flow=False)[:] = view / norm  # overwrite in place\n",
    "\n",
    "    mplhep.cms.label(loc=0, fontsize=22, com=13.6, ax=ax)\n",
    "    ax.set_title(title, pad=35, fontsize=35)\n",
    "    ax.set_xlabel('LowPtElectron $p_T$ (GeV)')\n",
    "    ax.text(2.5, -0.8, f\"numEvents = {num_events}\", fontsize=16, fontweight=\"bold\")\n",
    "    ax.text(-0.8, 0, f\"{sample_name}\", fontsize=15, rotation=90, fontweight=\"bold\")\n",
    "    ax.set_xticks(range(0, 20, 5))\n",
    "\n",
    "    # Ensure this ax is current for plot2d (in case plot2d uses plt.gca())\n",
    "    plt.sca(ax)\n",
    "    hist.plot2d(norm=colors.LogNorm(vmin=vmin, vmax=vmax), ax=ax)\n",
    "\n",
    "    # Y ticks every 2 units\n",
    "    y0, y1 = ax.get_ylim()\n",
    "    ax.set_yticks(range(int(y0), int(y1) + 1, 2))\n",
    "\n",
    "    ax.axhline(y=1.5, color='red', linestyle='--', linewidth=3)\n",
    "\n",
    "    # Save whole figure (or just leave saving to caller if preferred)\n",
    "    ax.figure.savefig(filename)"
   ]
  },
  {
   "cell_type": "code",
   "execution_count": 12,
   "id": "2c52e306-5f8a-427d-81d8-a96dfad3d8ad",
   "metadata": {},
   "outputs": [],
   "source": [
    "def two_d_eff_err(h_num, h_denom): # h_num and h_denom must have same binning in both dimensions\n",
    "\n",
    "    eff_h = h_num/h_denom # Creating a histogram\n",
    "    \n",
    "    err_h = np.sqrt(eff_h.values() * (1 - eff_h.values())/ h_denom.values())\n",
    "\n",
    "    return eff_h, err_h"
   ]
  },
  {
   "cell_type": "code",
   "execution_count": 13,
   "id": "70167672-db4e-4618-8326-cec2c3838fc6",
   "metadata": {},
   "outputs": [],
   "source": [
    "def plot_eta_pt_eff_v2(hist_num, hist_denom, title, source, sample_name=\"test\", save_name=\"test\", color=\"cividis\", vmin=0, vmax=1, event_count=None):\n",
    "\n",
    "    fig, ax = plt.subplots(figsize=(20, 20))\n",
    "    mplhep.style.use(mplhep.style.CMS)\n",
    "    mplhep.cms.label(loc=0, fontsize=28, com=13.6)\n",
    "\n",
    "    eff = two_d_eff_err(hist_num, hist_denom)\n",
    "    \n",
    "    \n",
    "    pt_edges = hist_num.axes[0].edges\n",
    "    pt_centers = [(pt_edges[i] + pt_edges[i+1])/2 for i in range(len(pt_edges) - 1)]\n",
    "    \n",
    "    eta_edges = hist_num.axes[1].edges\n",
    "    eta_centers = [(eta_edges[i] + eta_edges[i+1])/2 for i in range(len(eta_edges) - 1)]\n",
    "    eta_labels = [fr\"{eta_edges[i]:.3g} $< \\eta \\leq$ {eta_edges[i+1]:.3g}\" for i in range(len(eta_edges) - 1)]\n",
    "    \n",
    "    \n",
    "    #\"viridis\", \"plasma\", \"inferno\", \"magma\", \"cividis\"\n",
    "    #plt.imshow(hist, aspect='auto', origin='lower', norm=colors.LogNorm())\n",
    "    plt.imshow(\n",
    "    eff[0],\n",
    "    aspect='auto',\n",
    "    cmap=color,\n",
    "    origin='lower',\n",
    "    extent=[eta_edges[0], eta_edges[-1], pt_edges[0], pt_edges[-1]],\n",
    "    vmin=vmin,    # minimum value for color scale\n",
    "    vmax=vmax     # maximum value for color scale\n",
    "    )\n",
    "    \n",
    "    plt.xticks(ticks=eta_centers, labels=eta_labels, fontsize=30)\n",
    "    plt.yticks(fontsize=35)\n",
    "\n",
    "    # Get the efficiency values and errors\n",
    "    values = np.nan_to_num(eff[0], nan=0.0)\n",
    "    errors = np.nan_to_num(eff[1], nan=0.0)\n",
    "    \n",
    "    # Calculate bin centers for both axes\n",
    "    \n",
    "\n",
    "    # Loop through each bin and add text\n",
    "    for i in range(len(pt_centers)):\n",
    "        for j in range(len(eta_centers)):\n",
    "            val = values[i, j]\n",
    "            err = errors[i, j]\n",
    "            plt.text(eta_centers[j], pt_centers[i], \n",
    "                    f\"{val:.3f} ± {err:.3f}\", \n",
    "                    ha='center', va='center', \n",
    "                    color='white', fontsize=25,\n",
    "                    path_effects=[\n",
    "                    path_effects.Stroke(linewidth=2, foreground='black'),\n",
    "                    path_effects.Normal()\n",
    "            ])\n",
    "    \n",
    "    ax.yaxis.set_major_locator(plt.MaxNLocator(integer=True))\n",
    "\n",
    "    plt.tick_params(axis='x', pad=15)\n",
    "    plt.tick_params(axis='y', pad=15)\n",
    "\n",
    "    plt.ylabel(\"Electron $p_T$\", fontsize=50)\n",
    "    plt.title(f\"Electron {title} Eff.\", fontsize = 60, pad=60)\n",
    "\n",
    "    \n",
    "    plt.text(-0.3, pt_edges[3], f\"Sample: {sample_name} {source}\", ha='center', rotation=90, va='center', color='black', fontsize=35)\n",
    "    if event_count is not None:\n",
    "        plt.text(-0.17, pt_edges[3], f\"num Events: {event_count}\", ha='center', rotation=90, va='center', color='black', fontsize=30)\n",
    "\n",
    "    plt.colorbar()\n",
    "    plt.savefig(f\"plots/{save_name}\")\n",
    "    plt.show()"
   ]
  },
  {
   "cell_type": "code",
   "execution_count": 14,
   "id": "df61e9a2-02e4-40a5-9c69-684990c56c63",
   "metadata": {},
   "outputs": [
    {
     "data": {
      "text/plain": [
       "<Figure size 1000x1000 with 0 Axes>"
      ]
     },
     "metadata": {},
     "output_type": "display_data"
    }
   ],
   "source": [
    "import matplotlib.pyplot as plt\n",
    "import matplotlib.colors as colors\n",
    "import mplhep\n",
    "mplhep.style.use(mplhep.style.CMS)\n",
    "plt.figure()\n",
    "mplhep.style.use(mplhep.style.CMS)"
   ]
  },
  {
   "cell_type": "code",
   "execution_count": 15,
   "id": "ce035478-2c5b-4630-964e-f44073d0096b",
   "metadata": {},
   "outputs": [
    {
     "data": {
      "text/plain": [
       "array([[[[5.6500e+02, 0.0000e+00, 1.9900e+02, 6.0000e+00, 1.0000e+02],\n",
       "         [1.7650e+03, 0.0000e+00, 7.8000e+02, 1.3000e+01, 8.0600e+02],\n",
       "         [2.0644e+04, 0.0000e+00, 3.0800e+02, 2.6000e+01, 5.9000e+01],\n",
       "         [4.3400e+02, 0.0000e+00, 1.5300e+02, 2.3000e+01, 5.0000e+01],\n",
       "         [9.8000e+01, 0.0000e+00, 4.1000e+01, 9.0000e+00, 3.4000e+01]],\n",
       "\n",
       "        [[3.5200e+02, 0.0000e+00, 1.2500e+02, 1.0000e+00, 1.6000e+01],\n",
       "         [8.0600e+02, 0.0000e+00, 4.3700e+02, 1.0000e+00, 8.2000e+01],\n",
       "         [1.9479e+04, 0.0000e+00, 3.2600e+02, 1.0000e+00, 2.0000e+01],\n",
       "         [1.8200e+02, 0.0000e+00, 6.9000e+01, 1.0000e+00, 1.0000e+01],\n",
       "         [3.7000e+01, 0.0000e+00, 2.4000e+01, 1.0000e+00, 6.0000e+00]],\n",
       "\n",
       "        [[5.9000e+01, 0.0000e+00, 0.0000e+00, 0.0000e+00, 0.0000e+00],\n",
       "         [1.1100e+02, 0.0000e+00, 0.0000e+00, 0.0000e+00, 0.0000e+00],\n",
       "         [2.0270e+03, 0.0000e+00, 0.0000e+00, 0.0000e+00, 0.0000e+00],\n",
       "         [2.0000e+01, 0.0000e+00, 0.0000e+00, 0.0000e+00, 0.0000e+00],\n",
       "         [9.0000e+00, 0.0000e+00, 0.0000e+00, 0.0000e+00, 0.0000e+00]],\n",
       "\n",
       "        [[2.9600e+02, 0.0000e+00, 0.0000e+00, 0.0000e+00, 0.0000e+00],\n",
       "         [5.0900e+02, 0.0000e+00, 0.0000e+00, 0.0000e+00, 0.0000e+00],\n",
       "         [9.5260e+03, 0.0000e+00, 0.0000e+00, 0.0000e+00, 0.0000e+00],\n",
       "         [1.0300e+02, 0.0000e+00, 0.0000e+00, 0.0000e+00, 0.0000e+00],\n",
       "         [2.4000e+01, 0.0000e+00, 0.0000e+00, 0.0000e+00, 0.0000e+00]]],\n",
       "\n",
       "\n",
       "       [[[6.1300e+02, 0.0000e+00, 2.3500e+02, 2.0000e+00, 2.8000e+02],\n",
       "         [1.3780e+03, 0.0000e+00, 8.4700e+02, 3.3000e+01, 1.2090e+03],\n",
       "         [7.4190e+03, 0.0000e+00, 1.8200e+02, 1.4000e+01, 4.6000e+01],\n",
       "         [2.2700e+02, 0.0000e+00, 9.0000e+01, 2.8000e+01, 5.0000e+01],\n",
       "         [6.0000e+01, 0.0000e+00, 4.6000e+01, 6.0000e+00, 4.7000e+01]],\n",
       "\n",
       "        [[4.1000e+02, 0.0000e+00, 2.0400e+02, 4.0000e+00, 5.1000e+01],\n",
       "         [8.5100e+02, 0.0000e+00, 7.0400e+02, 6.0000e+00, 2.0500e+02],\n",
       "         [8.4780e+03, 0.0000e+00, 2.4100e+02, 9.0000e+00, 8.0000e+00],\n",
       "         [1.3500e+02, 0.0000e+00, 6.4000e+01, 2.0000e+00, 1.2000e+01],\n",
       "         [2.2000e+01, 0.0000e+00, 2.2000e+01, 0.0000e+00, 9.0000e+00]],\n",
       "\n",
       "        [[7.4000e+01, 0.0000e+00, 0.0000e+00, 0.0000e+00, 0.0000e+00],\n",
       "         [1.7600e+02, 0.0000e+00, 0.0000e+00, 0.0000e+00, 0.0000e+00],\n",
       "         [1.0330e+03, 0.0000e+00, 0.0000e+00, 0.0000e+00, 0.0000e+00],\n",
       "         [1.6000e+01, 0.0000e+00, 0.0000e+00, 0.0000e+00, 0.0000e+00],\n",
       "         [6.0000e+00, 0.0000e+00, 0.0000e+00, 0.0000e+00, 0.0000e+00]],\n",
       "\n",
       "        [[5.1400e+02, 0.0000e+00, 0.0000e+00, 0.0000e+00, 0.0000e+00],\n",
       "         [7.6800e+02, 0.0000e+00, 0.0000e+00, 0.0000e+00, 0.0000e+00],\n",
       "         [5.7670e+03, 0.0000e+00, 0.0000e+00, 0.0000e+00, 0.0000e+00],\n",
       "         [1.1800e+02, 0.0000e+00, 0.0000e+00, 0.0000e+00, 0.0000e+00],\n",
       "         [2.8000e+01, 0.0000e+00, 0.0000e+00, 0.0000e+00, 0.0000e+00]]],\n",
       "\n",
       "\n",
       "       [[[7.6300e+02, 0.0000e+00, 3.8600e+02, 1.1000e+01, 4.8100e+02],\n",
       "         [1.0730e+03, 0.0000e+00, 7.5300e+02, 2.6000e+01, 1.2020e+03],\n",
       "         [3.1560e+03, 0.0000e+00, 1.1800e+02, 7.0000e+00, 2.4000e+01],\n",
       "         [1.3000e+02, 0.0000e+00, 6.4000e+01, 1.2000e+01, 2.9000e+01],\n",
       "         [4.7000e+01, 0.0000e+00, 2.4000e+01, 5.0000e+00, 3.1000e+01]],\n",
       "\n",
       "        [[4.8100e+02, 0.0000e+00, 3.4200e+02, 9.0000e+00, 1.2000e+02],\n",
       "         [6.3300e+02, 0.0000e+00, 6.6300e+02, 8.0000e+00, 2.5000e+02],\n",
       "         [3.5190e+03, 0.0000e+00, 1.7100e+02, 2.0000e+00, 8.0000e+00],\n",
       "         [8.0000e+01, 0.0000e+00, 3.9000e+01, 3.0000e+00, 7.0000e+00],\n",
       "         [2.0000e+01, 0.0000e+00, 1.4000e+01, 1.0000e+00, 1.0000e+01]],\n",
       "\n",
       "        [[1.2400e+02, 0.0000e+00, 0.0000e+00, 0.0000e+00, 0.0000e+00],\n",
       "         [1.6800e+02, 0.0000e+00, 0.0000e+00, 0.0000e+00, 0.0000e+00],\n",
       "         [5.3100e+02, 0.0000e+00, 0.0000e+00, 0.0000e+00, 0.0000e+00],\n",
       "         [9.0000e+00, 0.0000e+00, 0.0000e+00, 0.0000e+00, 0.0000e+00],\n",
       "         [3.0000e+00, 0.0000e+00, 0.0000e+00, 0.0000e+00, 0.0000e+00]],\n",
       "\n",
       "        [[7.1300e+02, 0.0000e+00, 0.0000e+00, 0.0000e+00, 0.0000e+00],\n",
       "         [7.2200e+02, 0.0000e+00, 0.0000e+00, 0.0000e+00, 0.0000e+00],\n",
       "         [2.9970e+03, 0.0000e+00, 0.0000e+00, 0.0000e+00, 0.0000e+00],\n",
       "         [8.7000e+01, 0.0000e+00, 0.0000e+00, 0.0000e+00, 0.0000e+00],\n",
       "         [1.9000e+01, 0.0000e+00, 0.0000e+00, 0.0000e+00, 0.0000e+00]]],\n",
       "\n",
       "\n",
       "       [[[1.7900e+03, 0.0000e+00, 7.6800e+02, 4.2000e+01, 1.5660e+03],\n",
       "         [1.4090e+03, 0.0000e+00, 9.4100e+02, 4.3000e+01, 2.0350e+03],\n",
       "         [2.6590e+03, 0.0000e+00, 1.2700e+02, 9.0000e+00, 3.5000e+01],\n",
       "         [1.4000e+02, 0.0000e+00, 5.8000e+01, 1.3000e+01, 2.9000e+01],\n",
       "         [2.9000e+01, 0.0000e+00, 1.1000e+01, 5.0000e+00, 4.2000e+01]],\n",
       "\n",
       "        [[1.1080e+03, 0.0000e+00, 8.9800e+02, 2.4000e+01, 5.0000e+02],\n",
       "         [9.0500e+02, 0.0000e+00, 9.9100e+02, 1.9000e+01, 5.4900e+02],\n",
       "         [2.6740e+03, 0.0000e+00, 2.0300e+02, 1.0000e+00, 2.1000e+01],\n",
       "         [6.8000e+01, 0.0000e+00, 3.8000e+01, 4.0000e+00, 9.0000e+00],\n",
       "         [2.1000e+01, 0.0000e+00, 2.1000e+01, 0.0000e+00, 6.0000e+00]],\n",
       "\n",
       "        [[2.8500e+02, 0.0000e+00, 0.0000e+00, 0.0000e+00, 0.0000e+00],\n",
       "         [2.6200e+02, 0.0000e+00, 0.0000e+00, 0.0000e+00, 0.0000e+00],\n",
       "         [5.6000e+02, 0.0000e+00, 0.0000e+00, 0.0000e+00, 0.0000e+00],\n",
       "         [1.4000e+01, 0.0000e+00, 0.0000e+00, 0.0000e+00, 0.0000e+00],\n",
       "         [3.0000e+00, 0.0000e+00, 0.0000e+00, 0.0000e+00, 0.0000e+00]],\n",
       "\n",
       "        [[1.8730e+03, 0.0000e+00, 0.0000e+00, 0.0000e+00, 0.0000e+00],\n",
       "         [1.2680e+03, 0.0000e+00, 0.0000e+00, 0.0000e+00, 0.0000e+00],\n",
       "         [2.9110e+03, 0.0000e+00, 0.0000e+00, 0.0000e+00, 0.0000e+00],\n",
       "         [8.7000e+01, 0.0000e+00, 0.0000e+00, 0.0000e+00, 0.0000e+00],\n",
       "         [1.9000e+01, 0.0000e+00, 0.0000e+00, 0.0000e+00, 0.0000e+00]]],\n",
       "\n",
       "\n",
       "       [[[3.0290e+03, 0.0000e+00, 1.2640e+03, 6.2000e+01, 3.6800e+03],\n",
       "         [1.0710e+03, 0.0000e+00, 8.8000e+02, 4.8000e+01, 2.3590e+03],\n",
       "         [4.2850e+03, 0.0000e+00, 8.8500e+02, 1.0000e+00, 4.1000e+01],\n",
       "         [1.5900e+02, 0.0000e+00, 6.4000e+01, 6.0000e+00, 1.0000e+01],\n",
       "         [1.2000e+01, 0.0000e+00, 1.6000e+01, 4.0000e+00, 2.4000e+01]],\n",
       "\n",
       "        [[1.9200e+03, 0.0000e+00, 9.3600e+02, 4.5000e+01, 1.7880e+03],\n",
       "         [5.7800e+02, 0.0000e+00, 5.4100e+02, 2.1000e+01, 1.0630e+03],\n",
       "         [3.4790e+03, 0.0000e+00, 6.2300e+02, 0.0000e+00, 4.2000e+01],\n",
       "         [1.0200e+02, 0.0000e+00, 2.7000e+01, 1.0000e+00, 6.0000e+00],\n",
       "         [6.0000e+00, 0.0000e+00, 4.0000e+00, 4.0000e+00, 1.3000e+01]],\n",
       "\n",
       "        [[5.1800e+02, 0.0000e+00, 0.0000e+00, 0.0000e+00, 0.0000e+00],\n",
       "         [1.4600e+02, 0.0000e+00, 0.0000e+00, 0.0000e+00, 0.0000e+00],\n",
       "         [6.0000e+02, 0.0000e+00, 0.0000e+00, 0.0000e+00, 0.0000e+00],\n",
       "         [1.3000e+01, 0.0000e+00, 0.0000e+00, 0.0000e+00, 0.0000e+00],\n",
       "         [1.0000e+00, 0.0000e+00, 0.0000e+00, 0.0000e+00, 0.0000e+00]],\n",
       "\n",
       "        [[3.6000e+03, 0.0000e+00, 0.0000e+00, 0.0000e+00, 0.0000e+00],\n",
       "         [1.2880e+03, 0.0000e+00, 0.0000e+00, 0.0000e+00, 0.0000e+00],\n",
       "         [7.6140e+03, 0.0000e+00, 0.0000e+00, 0.0000e+00, 0.0000e+00],\n",
       "         [9.5000e+01, 0.0000e+00, 0.0000e+00, 0.0000e+00, 0.0000e+00],\n",
       "         [4.0000e+00, 0.0000e+00, 0.0000e+00, 0.0000e+00, 0.0000e+00]]],\n",
       "\n",
       "\n",
       "       [[[7.3470e+03, 0.0000e+00, 3.0460e+03, 3.4000e+02, 1.6086e+04],\n",
       "         [1.8140e+03, 0.0000e+00, 1.0500e+03, 1.1300e+02, 5.4190e+03],\n",
       "         [4.0070e+03, 0.0000e+00, 7.0300e+02, 5.0000e+00, 3.8000e+01],\n",
       "         [3.2700e+02, 0.0000e+00, 5.3000e+01, 5.0000e+00, 3.0000e+00],\n",
       "         [5.0000e+00, 0.0000e+00, 5.0000e+00, 2.0000e+00, 9.0000e+00]],\n",
       "\n",
       "        [[5.0060e+03, 0.0000e+00, 1.9920e+03, 3.2900e+02, 9.3680e+03],\n",
       "         [1.0620e+03, 0.0000e+00, 6.0900e+02, 9.4000e+01, 2.8690e+03],\n",
       "         [3.3460e+03, 0.0000e+00, 4.8000e+02, 2.0000e+00, 2.2000e+01],\n",
       "         [2.1500e+02, 0.0000e+00, 3.2000e+01, 1.0000e+00, 4.0000e+00],\n",
       "         [4.0000e+00, 0.0000e+00, 1.0000e+00, 0.0000e+00, 8.0000e+00]],\n",
       "\n",
       "        [[5.1900e+02, 0.0000e+00, 3.7600e+02, 5.8000e+01, 7.0300e+02],\n",
       "         [1.0400e+02, 0.0000e+00, 1.2700e+02, 1.2000e+01, 2.0500e+02],\n",
       "         [3.8900e+02, 0.0000e+00, 8.1000e+01, 2.0000e+00, 3.0000e+00],\n",
       "         [2.5000e+01, 0.0000e+00, 1.0000e+00, 1.0000e+00, 1.0000e+00],\n",
       "         [1.0000e+00, 0.0000e+00, 0.0000e+00, 0.0000e+00, 0.0000e+00]],\n",
       "\n",
       "        [[4.8740e+03, 0.0000e+00, 1.0700e+03, 5.0000e+02, 5.7830e+03],\n",
       "         [9.1900e+02, 0.0000e+00, 3.0400e+02, 1.4800e+02, 1.6810e+03],\n",
       "         [4.7100e+03, 0.0000e+00, 4.8300e+02, 1.2000e+01, 7.1000e+01],\n",
       "         [1.5100e+02, 0.0000e+00, 1.5000e+01, 3.0000e+00, 1.0000e+00],\n",
       "         [0.0000e+00, 0.0000e+00, 0.0000e+00, 1.0000e+00, 0.0000e+00]]],\n",
       "\n",
       "\n",
       "       [[[6.1460e+03, 0.0000e+00, 4.3460e+03, 6.9200e+02, 2.6644e+04],\n",
       "         [1.6700e+03, 0.0000e+00, 1.2840e+03, 2.3000e+02, 8.8610e+03],\n",
       "         [2.1890e+03, 0.0000e+00, 8.8000e+01, 0.0000e+00, 7.0000e+00],\n",
       "         [1.6700e+02, 0.0000e+00, 8.0000e+00, 0.0000e+00, 1.0000e+00],\n",
       "         [0.0000e+00, 0.0000e+00, 0.0000e+00, 0.0000e+00, 1.0000e+00]],\n",
       "\n",
       "        [[3.8020e+03, 0.0000e+00, 2.5280e+03, 7.0600e+02, 1.6204e+04],\n",
       "         [1.0760e+03, 0.0000e+00, 7.3900e+02, 2.3400e+02, 5.4860e+03],\n",
       "         [1.8260e+03, 0.0000e+00, 6.6000e+01, 0.0000e+00, 5.0000e+00],\n",
       "         [1.0500e+02, 0.0000e+00, 1.2000e+01, 1.0000e+00, 6.0000e+00],\n",
       "         [1.0000e+00, 0.0000e+00, 0.0000e+00, 0.0000e+00, 0.0000e+00]],\n",
       "\n",
       "        [[4.3100e+02, 0.0000e+00, 3.2500e+02, 8.3000e+01, 1.1860e+03],\n",
       "         [1.2900e+02, 0.0000e+00, 8.1000e+01, 3.8000e+01, 3.7200e+02],\n",
       "         [1.9200e+02, 0.0000e+00, 1.6000e+01, 0.0000e+00, 2.0000e+00],\n",
       "         [1.1000e+01, 0.0000e+00, 0.0000e+00, 0.0000e+00, 0.0000e+00],\n",
       "         [0.0000e+00, 0.0000e+00, 0.0000e+00, 0.0000e+00, 0.0000e+00]],\n",
       "\n",
       "        [[3.7900e+03, 0.0000e+00, 8.8800e+02, 8.4200e+02, 8.4800e+03],\n",
       "         [1.0160e+03, 0.0000e+00, 2.4600e+02, 2.9900e+02, 2.8380e+03],\n",
       "         [1.7910e+03, 0.0000e+00, 1.7200e+02, 1.0000e+00, 1.2000e+01],\n",
       "         [5.7000e+01, 0.0000e+00, 1.6000e+01, 0.0000e+00, 2.0000e+00],\n",
       "         [1.0000e+00, 0.0000e+00, 0.0000e+00, 0.0000e+00, 0.0000e+00]]],\n",
       "\n",
       "\n",
       "       [[[1.6030e+03, 0.0000e+00, 1.4600e+03, 3.0600e+02, 9.2480e+03],\n",
       "         [6.9900e+02, 0.0000e+00, 5.1700e+02, 1.3900e+02, 4.7880e+03],\n",
       "         [7.0800e+02, 0.0000e+00, 1.1000e+01, 0.0000e+00, 0.0000e+00],\n",
       "         [2.4000e+01, 0.0000e+00, 1.0000e+00, 0.0000e+00, 0.0000e+00],\n",
       "         [0.0000e+00, 0.0000e+00, 0.0000e+00, 0.0000e+00, 0.0000e+00]],\n",
       "\n",
       "        [[1.0310e+03, 0.0000e+00, 7.9500e+02, 2.6000e+02, 5.6300e+03],\n",
       "         [4.0200e+02, 0.0000e+00, 2.6900e+02, 1.2600e+02, 2.7750e+03],\n",
       "         [5.4800e+02, 0.0000e+00, 8.0000e+00, 1.0000e+00, 1.0000e+00],\n",
       "         [1.6000e+01, 0.0000e+00, 0.0000e+00, 1.0000e+00, 0.0000e+00],\n",
       "         [0.0000e+00, 0.0000e+00, 0.0000e+00, 0.0000e+00, 0.0000e+00]],\n",
       "\n",
       "        [[9.3000e+01, 0.0000e+00, 8.5000e+01, 4.5000e+01, 3.4400e+02],\n",
       "         [4.8000e+01, 0.0000e+00, 2.6000e+01, 1.3000e+01, 1.8400e+02],\n",
       "         [4.9000e+01, 0.0000e+00, 3.0000e+00, 0.0000e+00, 0.0000e+00],\n",
       "         [0.0000e+00, 0.0000e+00, 0.0000e+00, 0.0000e+00, 0.0000e+00],\n",
       "         [0.0000e+00, 0.0000e+00, 0.0000e+00, 0.0000e+00, 0.0000e+00]],\n",
       "\n",
       "        [[8.3800e+02, 0.0000e+00, 1.6800e+02, 2.3300e+02, 2.2710e+03],\n",
       "         [3.5600e+02, 0.0000e+00, 5.5000e+01, 1.1600e+02, 1.0940e+03],\n",
       "         [7.1700e+02, 0.0000e+00, 2.6000e+01, 0.0000e+00, 2.0000e+00],\n",
       "         [1.3000e+01, 0.0000e+00, 3.0000e+00, 0.0000e+00, 0.0000e+00],\n",
       "         [0.0000e+00, 0.0000e+00, 0.0000e+00, 0.0000e+00, 0.0000e+00]]],\n",
       "\n",
       "\n",
       "       [[[7.2500e+02, 0.0000e+00, 4.7100e+02, 1.3400e+02, 3.1870e+03],\n",
       "         [2.7600e+02, 0.0000e+00, 1.7100e+02, 7.6000e+01, 1.8980e+03],\n",
       "         [1.4450e+03, 0.0000e+00, 1.0000e+01, 0.0000e+00, 0.0000e+00],\n",
       "         [9.0000e+00, 0.0000e+00, 0.0000e+00, 0.0000e+00, 0.0000e+00],\n",
       "         [0.0000e+00, 0.0000e+00, 0.0000e+00, 0.0000e+00, 0.0000e+00]],\n",
       "\n",
       "        [[3.7600e+02, 0.0000e+00, 2.0500e+02, 8.4000e+01, 1.6890e+03],\n",
       "         [1.3100e+02, 0.0000e+00, 6.4000e+01, 5.0000e+01, 8.6500e+02],\n",
       "         [1.2810e+03, 0.0000e+00, 6.0000e+00, 0.0000e+00, 2.0000e+00],\n",
       "         [5.0000e+00, 0.0000e+00, 0.0000e+00, 0.0000e+00, 0.0000e+00],\n",
       "         [0.0000e+00, 0.0000e+00, 0.0000e+00, 0.0000e+00, 0.0000e+00]],\n",
       "\n",
       "        [[3.6000e+01, 0.0000e+00, 1.1000e+01, 9.0000e+00, 9.5000e+01],\n",
       "         [1.9000e+01, 0.0000e+00, 8.0000e+00, 3.0000e+00, 5.3000e+01],\n",
       "         [1.0300e+02, 0.0000e+00, 1.0000e+00, 0.0000e+00, 0.0000e+00],\n",
       "         [1.0000e+00, 0.0000e+00, 0.0000e+00, 0.0000e+00, 0.0000e+00],\n",
       "         [0.0000e+00, 0.0000e+00, 0.0000e+00, 0.0000e+00, 0.0000e+00]],\n",
       "\n",
       "        [[2.6300e+02, 0.0000e+00, 2.8000e+01, 5.6000e+01, 4.5800e+02],\n",
       "         [4.7000e+01, 0.0000e+00, 6.0000e+00, 1.7000e+01, 1.9300e+02],\n",
       "         [9.6900e+02, 0.0000e+00, 2.8000e+01, 0.0000e+00, 1.0000e+00],\n",
       "         [4.0000e+00, 0.0000e+00, 0.0000e+00, 0.0000e+00, 0.0000e+00],\n",
       "         [0.0000e+00, 0.0000e+00, 0.0000e+00, 0.0000e+00, 0.0000e+00]]]])"
      ]
     },
     "execution_count": 15,
     "metadata": {},
     "output_type": "execute_result"
    }
   ],
   "source": [
    "histo = r['ele_dict']['pt_eta_hist']\n",
    "histo.values()"
   ]
  },
  {
   "cell_type": "code",
   "execution_count": null,
   "id": "ced9fb13-28c0-4915-8536-ba6f72670e5e",
   "metadata": {},
   "outputs": [],
   "source": []
  },
  {
   "cell_type": "code",
   "execution_count": 16,
   "id": "da3cd594-3e98-4494-a420-e49b3b701b93",
   "metadata": {},
   "outputs": [
    {
     "data": {
      "text/plain": [
       "Hist(\n",
       "  Variable([2, 3, 4, 5, 7, 10, 20, 45, 75, 1000], name='pt'),\n",
       "  Variable([0, 0.8, 1.442, 1.556, 2.5], name='eta'),\n",
       "  IntCategory([-10, 10, 11, 12, 13], name='gen_tag'),\n",
       "  IntCategory([-1, 0, 1, 2, 3], name='qual_tag'),\n",
       "  storage=Double()) # Sum: 435009.0 (480359.0 with flow)"
      ]
     },
     "execution_count": 16,
     "metadata": {},
     "output_type": "execute_result"
    }
   ],
   "source": [
    "histo = r['ele_dict']['pt_eta_hist']\n",
    "histo\n",
    "\n",
    "histo"
   ]
  },
  {
   "cell_type": "code",
   "execution_count": 17,
   "id": "ffedeb44-9c65-481e-b54e-20df225617a8",
   "metadata": {},
   "outputs": [
    {
     "name": "stdout",
     "output_type": "stream",
     "text": [
      "Type: <class 'hist.hist.Hist'>\n"
     ]
    }
   ],
   "source": [
    "print(\"Type:\", type(histo))"
   ]
  },
  {
   "cell_type": "code",
   "execution_count": 18,
   "id": "38640a9f-ed3d-4cde-a906-c560366f80c5",
   "metadata": {},
   "outputs": [
    {
     "data": {
      "text/plain": [
       "(Variable([2, 3, 4, 5, 7, 10, 20, 45, 75, 1000], name='pt'),\n",
       " Variable([0, 0.8, 1.442, 1.556, 2.5], name='eta'),\n",
       " IntCategory([-10, 10, 11, 12, 13], name='gen_tag'),\n",
       " IntCategory([-1, 0, 1, 2, 3], name='qual_tag'))"
      ]
     },
     "execution_count": 18,
     "metadata": {},
     "output_type": "execute_result"
    }
   ],
   "source": [
    "histo.axes"
   ]
  },
  {
   "cell_type": "code",
   "execution_count": 19,
   "id": "284d0906-601a-4554-9758-fae06370325b",
   "metadata": {},
   "outputs": [
    {
     "ename": "IndexError",
     "evalue": "histogram index is out of range",
     "output_type": "error",
     "traceback": [
      "\u001b[0;31m---------------------------------------------------------------------------\u001b[0m",
      "\u001b[0;31mIndexError\u001b[0m                                Traceback (most recent call last)",
      "Cell \u001b[0;32mIn[19], line 1\u001b[0m\n\u001b[0;32m----> 1\u001b[0m sliced_hist \u001b[38;5;241m=\u001b[39m \u001b[43mhisto\u001b[49m\u001b[43m[\u001b[49m\u001b[43m{\u001b[49m\u001b[38;5;124;43m\"\u001b[39;49m\u001b[38;5;124;43mgen_tag\u001b[39;49m\u001b[38;5;124;43m\"\u001b[39;49m\u001b[43m:\u001b[49m\u001b[43m \u001b[49m\u001b[38;5;241;43m10\u001b[39;49m\u001b[43m,\u001b[49m\u001b[43m \u001b[49m\u001b[38;5;124;43m\"\u001b[39;49m\u001b[38;5;124;43mqual_tag\u001b[39;49m\u001b[38;5;124;43m\"\u001b[39;49m\u001b[43m:\u001b[49m\u001b[43m \u001b[49m\u001b[38;5;241;43m3\u001b[39;49m\u001b[43m}\u001b[49m\u001b[43m]\u001b[49m\n",
      "File \u001b[0;32m/usr/local/lib/python3.12/site-packages/hist/basehist.py:417\u001b[0m, in \u001b[0;36mBaseHist.__getitem__\u001b[0;34m(self, index)\u001b[0m\n\u001b[1;32m    410\u001b[0m \u001b[38;5;28;01mdef\u001b[39;00m\u001b[38;5;250m \u001b[39m\u001b[38;5;21m__getitem__\u001b[39m(  \u001b[38;5;66;03m# type: ignore[override]\u001b[39;00m\n\u001b[1;32m    411\u001b[0m     \u001b[38;5;28mself\u001b[39m, index: IndexingExpr\n\u001b[1;32m    412\u001b[0m ) \u001b[38;5;241m-\u001b[39m\u001b[38;5;241m>\u001b[39m Self \u001b[38;5;241m|\u001b[39m \u001b[38;5;28mfloat\u001b[39m \u001b[38;5;241m|\u001b[39m bh\u001b[38;5;241m.\u001b[39maccumulators\u001b[38;5;241m.\u001b[39mAccumulator:\n\u001b[1;32m    413\u001b[0m \u001b[38;5;250m    \u001b[39m\u001b[38;5;124;03m\"\"\"\u001b[39;00m\n\u001b[1;32m    414\u001b[0m \u001b[38;5;124;03m    Get histogram item.\u001b[39;00m\n\u001b[1;32m    415\u001b[0m \u001b[38;5;124;03m    \"\"\"\u001b[39;00m\n\u001b[0;32m--> 417\u001b[0m     \u001b[38;5;28;01mreturn\u001b[39;00m \u001b[38;5;28;43msuper\u001b[39;49m\u001b[43m(\u001b[49m\u001b[43m)\u001b[49m\u001b[38;5;241;43m.\u001b[39;49m\u001b[38;5;21;43m__getitem__\u001b[39;49m\u001b[43m(\u001b[49m\u001b[38;5;28;43mself\u001b[39;49m\u001b[38;5;241;43m.\u001b[39;49m\u001b[43m_index_transform\u001b[49m\u001b[43m(\u001b[49m\u001b[43mindex\u001b[49m\u001b[43m)\u001b[49m\u001b[43m)\u001b[49m\n",
      "File \u001b[0;32m/usr/local/lib/python3.12/site-packages/boost_histogram/_internal/hist.py:817\u001b[0m, in \u001b[0;36mHistogram.__getitem__\u001b[0;34m(self, index)\u001b[0m\n\u001b[1;32m    816\u001b[0m \u001b[38;5;28;01mdef\u001b[39;00m\u001b[38;5;250m \u001b[39m\u001b[38;5;21m__getitem__\u001b[39m(\u001b[38;5;28mself\u001b[39m: H, index: IndexingExpr) \u001b[38;5;241m-\u001b[39m\u001b[38;5;241m>\u001b[39m H \u001b[38;5;241m|\u001b[39m \u001b[38;5;28mfloat\u001b[39m \u001b[38;5;241m|\u001b[39m Accumulator:\n\u001b[0;32m--> 817\u001b[0m     indexes \u001b[38;5;241m=\u001b[39m \u001b[38;5;28;43mself\u001b[39;49m\u001b[38;5;241;43m.\u001b[39;49m\u001b[43m_compute_commonindex\u001b[49m\u001b[43m(\u001b[49m\u001b[43mindex\u001b[49m\u001b[43m)\u001b[49m\n\u001b[1;32m    819\u001b[0m     \u001b[38;5;66;03m# If this is (now) all integers, return the bin contents\u001b[39;00m\n\u001b[1;32m    820\u001b[0m     \u001b[38;5;66;03m# But don't try *dict!\u001b[39;00m\n\u001b[1;32m    821\u001b[0m     \u001b[38;5;28;01mif\u001b[39;00m \u001b[38;5;129;01mnot\u001b[39;00m \u001b[38;5;28mhasattr\u001b[39m(indexes, \u001b[38;5;124m\"\u001b[39m\u001b[38;5;124mitems\u001b[39m\u001b[38;5;124m\"\u001b[39m) \u001b[38;5;129;01mand\u001b[39;00m \u001b[38;5;28mall\u001b[39m(\n\u001b[1;32m    822\u001b[0m         \u001b[38;5;28misinstance\u001b[39m(a, SupportsIndex) \u001b[38;5;28;01mfor\u001b[39;00m a \u001b[38;5;129;01min\u001b[39;00m indexes\n\u001b[1;32m    823\u001b[0m     ):\n",
      "File \u001b[0;32m/usr/local/lib/python3.12/site-packages/boost_histogram/_internal/hist.py:731\u001b[0m, in \u001b[0;36mHistogram._compute_commonindex\u001b[0;34m(self, index)\u001b[0m\n\u001b[1;32m    729\u001b[0m         indexes[i] \u001b[38;5;241m=\u001b[39m [\u001b[38;5;28mself\u001b[39m\u001b[38;5;241m.\u001b[39m_compute_uhi_index(ind, i) \u001b[38;5;28;01mfor\u001b[39;00m ind \u001b[38;5;129;01min\u001b[39;00m indexes[i]]\n\u001b[1;32m    730\u001b[0m     \u001b[38;5;28;01melse\u001b[39;00m:\n\u001b[0;32m--> 731\u001b[0m         indexes[i] \u001b[38;5;241m=\u001b[39m \u001b[38;5;28;43mself\u001b[39;49m\u001b[38;5;241;43m.\u001b[39;49m\u001b[43m_compute_uhi_index\u001b[49m\u001b[43m(\u001b[49m\u001b[43mindexes\u001b[49m\u001b[43m[\u001b[49m\u001b[43mi\u001b[49m\u001b[43m]\u001b[49m\u001b[43m,\u001b[49m\u001b[43m \u001b[49m\u001b[43mi\u001b[49m\u001b[43m)\u001b[49m\n\u001b[1;32m    733\u001b[0m \u001b[38;5;28;01mreturn\u001b[39;00m indexes\n",
      "File \u001b[0;32m/usr/local/lib/python3.12/site-packages/boost_histogram/_internal/hist.py:690\u001b[0m, in \u001b[0;36mHistogram._compute_uhi_index\u001b[0;34m(self, index, axis)\u001b[0m\n\u001b[1;32m    688\u001b[0m \u001b[38;5;28;01mif\u001b[39;00m \u001b[38;5;28misinstance\u001b[39m(index, SupportsIndex):\n\u001b[1;32m    689\u001b[0m     \u001b[38;5;28;01mif\u001b[39;00m \u001b[38;5;28mabs\u001b[39m(\u001b[38;5;28mint\u001b[39m(index)) \u001b[38;5;241m>\u001b[39m\u001b[38;5;241m=\u001b[39m \u001b[38;5;28mself\u001b[39m\u001b[38;5;241m.\u001b[39m_hist\u001b[38;5;241m.\u001b[39maxis(axis)\u001b[38;5;241m.\u001b[39msize:\n\u001b[0;32m--> 690\u001b[0m         \u001b[38;5;28;01mraise\u001b[39;00m \u001b[38;5;167;01mIndexError\u001b[39;00m(\u001b[38;5;124m\"\u001b[39m\u001b[38;5;124mhistogram index is out of range\u001b[39m\u001b[38;5;124m\"\u001b[39m)\n\u001b[1;32m    691\u001b[0m     \u001b[38;5;28;01mreturn\u001b[39;00m \u001b[38;5;28mint\u001b[39m(index) \u001b[38;5;241m%\u001b[39m \u001b[38;5;28mself\u001b[39m\u001b[38;5;241m.\u001b[39m_hist\u001b[38;5;241m.\u001b[39maxis(axis)\u001b[38;5;241m.\u001b[39msize\n\u001b[1;32m    693\u001b[0m \u001b[38;5;28;01mreturn\u001b[39;00m index\n",
      "\u001b[0;31mIndexError\u001b[0m: histogram index is out of range"
     ]
    }
   ],
   "source": [
    "sliced_hist = histo[{\"gen_tag\": 10, \"qual_tag\": 3}]"
   ]
  },
  {
   "cell_type": "code",
   "execution_count": null,
   "id": "2b3c4315-c62a-489a-9984-2e4ef3cad35c",
   "metadata": {},
   "outputs": [],
   "source": [
    "# First, let's see the actual categorical values and their indices\n",
    "print(\"gen_tag axis info:\")\n",
    "print(\"  Type:\", type(histo.axes['gen_tag']))\n",
    "print(\"  Values:\", list(histo.axes['gen_tag']))\n",
    "print(\"  Size:\", len(histo.axes['gen_tag']))\n",
    "\n",
    "print(\"\\nqual_tag axis info:\")\n",
    "print(\"  Type:\", type(histo.axes['qual_tag']))\n",
    "print(\"  Values:\", list(histo.axes['qual_tag']))\n",
    "print(\"  Size:\", len(histo.axes['qual_tag']))\n",
    "\n",
    "# Check the histogram shape\n",
    "print(\"\\nHistogram shape:\", histo.shape)"
   ]
  },
  {
   "cell_type": "code",
   "execution_count": null,
   "id": "89451e89-259b-45c0-9c5f-3ba349ba1069",
   "metadata": {},
   "outputs": [],
   "source": [
    "# Find the indices of your desired values\n",
    "gen_tag_list = [-10, 10, 11, 12, 13]\n",
    "qual_tag_list = [-1, 0, 1, 2, 3]\n",
    "\n",
    "gen_idx = gen_tag_list.index(10)  # This will be index 1\n",
    "qual_idx = qual_tag_list.index(3)  # This will be index 4\n",
    "\n",
    "print(f\"gen_tag=10 is at index {gen_idx}\")  # Should print 1\n",
    "print(f\"qual_tag=3 is at index {qual_idx}\")  # Should print 4\n",
    "\n",
    "# Now slice the histogram using positional indices\n",
    "# Shape is (9, 4, 5, 5) = (pt_bins, eta_bins, gen_tag_bins, qual_tag_bins)\n",
    "sliced_hist = histo[:, :, gen_idx, qual_idx]\n",
    "\n",
    "print(\"Sliced histogram shape:\", sliced_hist.shape) "
   ]
  },
  {
   "cell_type": "code",
   "execution_count": null,
   "id": "df80ca99-7cba-4666-9395-f089f45b427d",
   "metadata": {},
   "outputs": [],
   "source": [
    "sliced_hist = histo[:, :, 1, 4]"
   ]
  },
  {
   "cell_type": "code",
   "execution_count": null,
   "id": "50a3d111-8f5c-46b7-9866-6bff43454ce4",
   "metadata": {},
   "outputs": [],
   "source": [
    "sliced_hist.plot()"
   ]
  },
  {
   "cell_type": "code",
   "execution_count": null,
   "id": "ce952203-958c-4d98-adbe-489cbea666d0",
   "metadata": {},
   "outputs": [],
   "source": []
  }
 ],
 "metadata": {
  "kernelspec": {
   "display_name": "Python 3 (ipykernel)",
   "language": "python",
   "name": "python3"
  },
  "language_info": {
   "codemirror_mode": {
    "name": "ipython",
    "version": 3
   },
   "file_extension": ".py",
   "mimetype": "text/x-python",
   "name": "python",
   "nbconvert_exporter": "python",
   "pygments_lexer": "ipython3",
   "version": "3.12.5"
  }
 },
 "nbformat": 4,
 "nbformat_minor": 5
}
